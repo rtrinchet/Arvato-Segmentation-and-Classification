{
 "cells": [
  {
   "cell_type": "code",
   "execution_count": 1,
   "metadata": {},
   "outputs": [],
   "source": [
    "import lightgbm as lgb\n"
   ]
  },
  {
   "cell_type": "code",
   "execution_count": 2,
   "metadata": {},
   "outputs": [],
   "source": [
    "import pandas as pd\n",
    "import matplotlib.pyplot as plt\n",
    "from sklearn import model_selection\n",
    "from sklearn.linear_model import LogisticRegression\n",
    "from sklearn.tree import DecisionTreeClassifier\n",
    "from sklearn.neighbors import KNeighborsClassifier\n",
    "from sklearn.discriminant_analysis import LinearDiscriminantAnalysis\n",
    "from sklearn.naive_bayes import GaussianNB\n",
    "from sklearn.svm import SVC\n",
    "from sklearn.ensemble import RandomForestClassifier\n",
    "from sklearn.model_selection import cross_val_score, StratifiedKFold, GridSearchCV, RandomizedSearchCV\n",
    "\n",
    "from sklearn.decomposition import PCA, KernelPCA\n"
   ]
  },
  {
   "cell_type": "code",
   "execution_count": 3,
   "metadata": {},
   "outputs": [
    {
     "name": "stderr",
     "output_type": "stream",
     "text": [
      "/usr/local/lib/python3.7/site-packages/sklearn/utils/deprecation.py:144: FutureWarning: The sklearn.metrics.classification module is  deprecated in version 0.22 and will be removed in version 0.24. The corresponding classes / functions should instead be imported from sklearn.metrics. Anything that cannot be imported from sklearn.metrics is now part of the private API.\n",
      "  warnings.warn(message, FutureWarning)\n"
     ]
    }
   ],
   "source": [
    "from src.helpers import *\n",
    "from src.feature_selection import var_lists, get_feats\n",
    "from src.read_data import *\n",
    "from src.cleaner import clean_data\n",
    "\n",
    "from src.dimensionality_reduction import *"
   ]
  },
  {
   "cell_type": "code",
   "execution_count": 4,
   "metadata": {},
   "outputs": [
    {
     "name": "stderr",
     "output_type": "stream",
     "text": [
      "/usr/local/lib/python3.7/site-packages/IPython/core/magic.py:187: DtypeWarning: Columns (18,19) have mixed types.Specify dtype option on import or set low_memory=False.\n",
      "  call = lambda f, *a, **k: f(*a, **k)\n"
     ]
    },
    {
     "name": "stdout",
     "output_type": "stream",
     "text": [
      "Reducing memory usage...\n",
      "Mem. usage decreased to 27.86 Mb (76.8% reduction)\n",
      "\n",
      "Completed. Shape of the data:  (42962, 367)\n",
      "Reducing memory usage...\n",
      "Mem. usage decreased to 27.74 Mb (76.8% reduction)\n",
      "\n",
      "Completed. Shape of the data:  (42833, 366)\n",
      "CPU times: user 7.63 s, sys: 2.08 s, total: 9.71 s\n",
      "Wall time: 9.74 s\n"
     ]
    }
   ],
   "source": [
    "%%time \n",
    "\n",
    "# azdias    = read_data('Udacity_AZDIAS_052018.csv')\n",
    "# customers = read_data('Udacity_CUSTOMERS_052018.csv')\n",
    "train     = read_data('Udacity_MAILOUT_052018_TRAIN.csv')\n",
    "test      = read_data('Udacity_MAILOUT_052018_TEST.csv')"
   ]
  },
  {
   "cell_type": "code",
   "execution_count": 5,
   "metadata": {},
   "outputs": [
    {
     "data": {
      "text/plain": [
       "((178244, 296), (38330, 300), 20, 20)"
      ]
     },
     "execution_count": 5,
     "metadata": {},
     "output_type": "execute_result"
    }
   ],
   "source": [
    "clean_data_dict = load_dict('clean_data')\n",
    "\n",
    "azdias_clean    = clean_data_dict['azdias_data']\n",
    "customers_clean = clean_data_dict['customers_data']\n",
    "RF_vars         = clean_data_dict['RF_vars']\n",
    "eli5_vars       = clean_data_dict['eli5_vars']\n",
    "\n",
    "azdias_clean.shape, customers_clean.shape, len(RF_vars), len(eli5_vars)"
   ]
  },
  {
   "cell_type": "code",
   "execution_count": 6,
   "metadata": {},
   "outputs": [],
   "source": [
    "SEED = 0"
   ]
  },
  {
   "cell_type": "code",
   "execution_count": 7,
   "metadata": {},
   "outputs": [
    {
     "name": "stdout",
     "output_type": "stream",
     "text": [
      "Initial df shape: (42962, 366)\n",
      "Variables with missing values...\n",
      "Your selected dataframe has 366 columns.\n",
      "There are 273 columns that have missing values.\n",
      "\tDropped 5 variables\n",
      "Highly correlated variables...\n",
      "\tDropped 67 variables\n",
      "Constant variables\n",
      "\tDropped 0 variables\n",
      "Final df shape: (42962, 297)\n"
     ]
    }
   ],
   "source": [
    "train_clean = clean_data(train)"
   ]
  },
  {
   "cell_type": "code",
   "execution_count": 8,
   "metadata": {},
   "outputs": [
    {
     "data": {
      "text/html": [
       "<div>\n",
       "<style scoped>\n",
       "    .dataframe tbody tr th:only-of-type {\n",
       "        vertical-align: middle;\n",
       "    }\n",
       "\n",
       "    .dataframe tbody tr th {\n",
       "        vertical-align: top;\n",
       "    }\n",
       "\n",
       "    .dataframe thead th {\n",
       "        text-align: right;\n",
       "    }\n",
       "</style>\n",
       "<table border=\"1\" class=\"dataframe\">\n",
       "  <thead>\n",
       "    <tr style=\"text-align: right;\">\n",
       "      <th></th>\n",
       "      <th>AGER_TYP</th>\n",
       "      <th>AKT_DAT_KL</th>\n",
       "      <th>ALTER_HH</th>\n",
       "      <th>ALTERSKATEGORIE_FEIN</th>\n",
       "      <th>ANZ_HAUSHALTE_AKTIV</th>\n",
       "      <th>ANZ_HH_TITEL</th>\n",
       "      <th>ANZ_KINDER</th>\n",
       "      <th>ANZ_PERSONEN</th>\n",
       "      <th>ANZ_TITEL</th>\n",
       "      <th>ARBEIT</th>\n",
       "      <th>...</th>\n",
       "      <th>VERDICHTUNGSRAUM</th>\n",
       "      <th>VHA</th>\n",
       "      <th>VHN</th>\n",
       "      <th>VK_DHT4A</th>\n",
       "      <th>W_KEIT_KIND_HH</th>\n",
       "      <th>WOHNDAUER_2008</th>\n",
       "      <th>WOHNLAGE</th>\n",
       "      <th>ZABEOTYP</th>\n",
       "      <th>RESPONSE</th>\n",
       "      <th>ALTERSKATEGORIE_GROB</th>\n",
       "    </tr>\n",
       "    <tr>\n",
       "      <th>LNR</th>\n",
       "      <th></th>\n",
       "      <th></th>\n",
       "      <th></th>\n",
       "      <th></th>\n",
       "      <th></th>\n",
       "      <th></th>\n",
       "      <th></th>\n",
       "      <th></th>\n",
       "      <th></th>\n",
       "      <th></th>\n",
       "      <th></th>\n",
       "      <th></th>\n",
       "      <th></th>\n",
       "      <th></th>\n",
       "      <th></th>\n",
       "      <th></th>\n",
       "      <th></th>\n",
       "      <th></th>\n",
       "      <th></th>\n",
       "      <th></th>\n",
       "      <th></th>\n",
       "    </tr>\n",
       "  </thead>\n",
       "  <tbody>\n",
       "    <tr>\n",
       "      <th>1763</th>\n",
       "      <td>2</td>\n",
       "      <td>1.0</td>\n",
       "      <td>8.0</td>\n",
       "      <td>8.0</td>\n",
       "      <td>15.0</td>\n",
       "      <td>0.0</td>\n",
       "      <td>0.0</td>\n",
       "      <td>1.0</td>\n",
       "      <td>0.0</td>\n",
       "      <td>3.0</td>\n",
       "      <td>...</td>\n",
       "      <td>4.0</td>\n",
       "      <td>1.0</td>\n",
       "      <td>2.0</td>\n",
       "      <td>5.0</td>\n",
       "      <td>6.0</td>\n",
       "      <td>9.0</td>\n",
       "      <td>3.0</td>\n",
       "      <td>3</td>\n",
       "      <td>0</td>\n",
       "      <td>4</td>\n",
       "    </tr>\n",
       "    <tr>\n",
       "      <th>1771</th>\n",
       "      <td>1</td>\n",
       "      <td>4.0</td>\n",
       "      <td>13.0</td>\n",
       "      <td>13.0</td>\n",
       "      <td>1.0</td>\n",
       "      <td>0.0</td>\n",
       "      <td>0.0</td>\n",
       "      <td>2.0</td>\n",
       "      <td>0.0</td>\n",
       "      <td>2.0</td>\n",
       "      <td>...</td>\n",
       "      <td>0.0</td>\n",
       "      <td>1.0</td>\n",
       "      <td>3.0</td>\n",
       "      <td>1.0</td>\n",
       "      <td>4.0</td>\n",
       "      <td>9.0</td>\n",
       "      <td>7.0</td>\n",
       "      <td>1</td>\n",
       "      <td>0</td>\n",
       "      <td>3</td>\n",
       "    </tr>\n",
       "    <tr>\n",
       "      <th>1776</th>\n",
       "      <td>1</td>\n",
       "      <td>1.0</td>\n",
       "      <td>9.0</td>\n",
       "      <td>7.0</td>\n",
       "      <td>0.0</td>\n",
       "      <td>NaN</td>\n",
       "      <td>0.0</td>\n",
       "      <td>0.0</td>\n",
       "      <td>0.0</td>\n",
       "      <td>4.0</td>\n",
       "      <td>...</td>\n",
       "      <td>10.0</td>\n",
       "      <td>4.0</td>\n",
       "      <td>1.0</td>\n",
       "      <td>6.0</td>\n",
       "      <td>NaN</td>\n",
       "      <td>9.0</td>\n",
       "      <td>2.0</td>\n",
       "      <td>3</td>\n",
       "      <td>0</td>\n",
       "      <td>4</td>\n",
       "    </tr>\n",
       "    <tr>\n",
       "      <th>1460</th>\n",
       "      <td>2</td>\n",
       "      <td>1.0</td>\n",
       "      <td>6.0</td>\n",
       "      <td>6.0</td>\n",
       "      <td>4.0</td>\n",
       "      <td>0.0</td>\n",
       "      <td>0.0</td>\n",
       "      <td>2.0</td>\n",
       "      <td>0.0</td>\n",
       "      <td>4.0</td>\n",
       "      <td>...</td>\n",
       "      <td>5.0</td>\n",
       "      <td>1.0</td>\n",
       "      <td>4.0</td>\n",
       "      <td>8.0</td>\n",
       "      <td>6.0</td>\n",
       "      <td>9.0</td>\n",
       "      <td>1.0</td>\n",
       "      <td>3</td>\n",
       "      <td>0</td>\n",
       "      <td>4</td>\n",
       "    </tr>\n",
       "    <tr>\n",
       "      <th>1783</th>\n",
       "      <td>2</td>\n",
       "      <td>1.0</td>\n",
       "      <td>9.0</td>\n",
       "      <td>9.0</td>\n",
       "      <td>53.0</td>\n",
       "      <td>0.0</td>\n",
       "      <td>0.0</td>\n",
       "      <td>1.0</td>\n",
       "      <td>0.0</td>\n",
       "      <td>3.0</td>\n",
       "      <td>...</td>\n",
       "      <td>4.0</td>\n",
       "      <td>0.0</td>\n",
       "      <td>4.0</td>\n",
       "      <td>2.0</td>\n",
       "      <td>6.0</td>\n",
       "      <td>9.0</td>\n",
       "      <td>3.0</td>\n",
       "      <td>3</td>\n",
       "      <td>0</td>\n",
       "      <td>3</td>\n",
       "    </tr>\n",
       "  </tbody>\n",
       "</table>\n",
       "<p>5 rows × 296 columns</p>\n",
       "</div>"
      ],
      "text/plain": [
       "      AGER_TYP  AKT_DAT_KL  ALTER_HH  ALTERSKATEGORIE_FEIN  \\\n",
       "LNR                                                          \n",
       "1763         2         1.0       8.0                   8.0   \n",
       "1771         1         4.0      13.0                  13.0   \n",
       "1776         1         1.0       9.0                   7.0   \n",
       "1460         2         1.0       6.0                   6.0   \n",
       "1783         2         1.0       9.0                   9.0   \n",
       "\n",
       "      ANZ_HAUSHALTE_AKTIV  ANZ_HH_TITEL  ANZ_KINDER  ANZ_PERSONEN  ANZ_TITEL  \\\n",
       "LNR                                                                            \n",
       "1763                 15.0           0.0         0.0           1.0        0.0   \n",
       "1771                  1.0           0.0         0.0           2.0        0.0   \n",
       "1776                  0.0           NaN         0.0           0.0        0.0   \n",
       "1460                  4.0           0.0         0.0           2.0        0.0   \n",
       "1783                 53.0           0.0         0.0           1.0        0.0   \n",
       "\n",
       "      ARBEIT  ...  VERDICHTUNGSRAUM  VHA  VHN  VK_DHT4A  W_KEIT_KIND_HH  \\\n",
       "LNR           ...                                                         \n",
       "1763     3.0  ...               4.0  1.0  2.0       5.0             6.0   \n",
       "1771     2.0  ...               0.0  1.0  3.0       1.0             4.0   \n",
       "1776     4.0  ...              10.0  4.0  1.0       6.0             NaN   \n",
       "1460     4.0  ...               5.0  1.0  4.0       8.0             6.0   \n",
       "1783     3.0  ...               4.0  0.0  4.0       2.0             6.0   \n",
       "\n",
       "      WOHNDAUER_2008  WOHNLAGE  ZABEOTYP  RESPONSE  ALTERSKATEGORIE_GROB  \n",
       "LNR                                                                       \n",
       "1763             9.0       3.0         3         0                     4  \n",
       "1771             9.0       7.0         1         0                     3  \n",
       "1776             9.0       2.0         3         0                     4  \n",
       "1460             9.0       1.0         3         0                     4  \n",
       "1783             9.0       3.0         3         0                     3  \n",
       "\n",
       "[5 rows x 296 columns]"
      ]
     },
     "execution_count": 8,
     "metadata": {},
     "output_type": "execute_result"
    }
   ],
   "source": [
    "train_clean.head()"
   ]
  },
  {
   "cell_type": "code",
   "execution_count": 9,
   "metadata": {},
   "outputs": [],
   "source": [
    "categorical_pipe = Pipeline([\n",
    "    ('imputer', SimpleImputer(strategy='constant', fill_value='missing')),\n",
    "    ('onehot', OneHotEncoder(drop = 'first'))\n",
    "])\n",
    "\n",
    "numerical_pipe = Pipeline([\n",
    "    ('imputer', SimpleImputer(strategy='median')),\n",
    "    ('scaler', MinMaxScaler())\n",
    "])\n",
    " \n",
    "def create_preprocessing(df):\n",
    "    numerical_columns, categorical_columns = var_lists(df)\n",
    "\n",
    "    preprocessing = ColumnTransformer(\n",
    "        [('cat', categorical_pipe, categorical_columns),\n",
    "         ('num', numerical_pipe, numerical_columns)])\n",
    "\n",
    "    return preprocessing\n"
   ]
  },
  {
   "cell_type": "code",
   "execution_count": 10,
   "metadata": {},
   "outputs": [],
   "source": [
    "def get_feats(model, cat_cols, num_cols): \n",
    "    '''Fitted rf as input'''\n",
    "    \n",
    "    \n",
    "    ohe = (model.named_transformers_['cat']\n",
    "         .named_steps['onehot'])\n",
    "    \n",
    "    feature_names = ohe.get_feature_names(input_features=cat_cols)\n",
    "    feature_names = np.r_[feature_names, num_cols]\n",
    "    \n",
    "    return feature_names"
   ]
  },
  {
   "cell_type": "code",
   "execution_count": 11,
   "metadata": {},
   "outputs": [],
   "source": [
    "X_train = train_clean.drop('RESPONSE', axis=1)\n",
    "y_train = train_clean.RESPONSE"
   ]
  },
  {
   "cell_type": "code",
   "execution_count": 12,
   "metadata": {},
   "outputs": [],
   "source": [
    "# # prepare models\n",
    "# models = []\n",
    "# models.append(('RF', RandomForestClassifier(random_state = SEED)))\n",
    "# # models.append(('KNN', KNeighborsClassifier()))\n",
    "# # models.append(('CART', DecisionTreeClassifier()))\n",
    "# # models.append(('NB', GaussianNB()))\n",
    "# # models.append(('SVM', SVC()))"
   ]
  },
  {
   "cell_type": "code",
   "execution_count": 13,
   "metadata": {},
   "outputs": [
    {
     "ename": "NameError",
     "evalue": "name 'X' is not defined",
     "output_type": "error",
     "traceback": [
      "\u001b[0;31m---------------------------------------------------------------------------\u001b[0m",
      "\u001b[0;31mNameError\u001b[0m                                 Traceback (most recent call last)",
      "\u001b[0;32m<timed exec>\u001b[0m in \u001b[0;36m<module>\u001b[0;34m\u001b[0m\n",
      "\u001b[0;31mNameError\u001b[0m: name 'X' is not defined"
     ]
    }
   ],
   "source": [
    "# %%time\n",
    "\n",
    "# from sklearn.model_selection import KFold\n",
    "# from sklearn.metrics import roc_auc_score\n",
    "\n",
    "# kf = KFold(n_splits=5)\n",
    "# i = 0\n",
    "# for train_idx, val_idx in kf.split(X):\n",
    "#     i+=1\n",
    "#     print(f'Fold {i}')\n",
    "#     print('='*30)\n",
    "#     X_train = X.iloc[train_idx, :]\n",
    "#     X_val = X.iloc[val_idx, :]\n",
    "#     y_train = y.iloc[train_idx]\n",
    "#     y_val = y.iloc[val_idx]\n",
    "    \n",
    "# #     print('Train shape: ', X_train.shape, y_train.shape)\n",
    "# #     print('Valid shape: ', X_val.shape, y_val.shape)\n",
    "    \n",
    "# #     print('Fitting preprocessor...')\n",
    "#     numerical_columns, categorical_columns = var_lists(X_train)\n",
    "\n",
    "#     preprocessing = ColumnTransformer(\n",
    "#     [('cat', categorical_pipe, categorical_columns),\n",
    "#      ('num', numerical_pipe, numerical_columns)])\n",
    "    \n",
    "#     X_train_t = preprocessing.fit_transform(X_train)\n",
    "    \n",
    "#     numerical_columns, categorical_columns = var_lists(X_train)\n",
    "\n",
    "#     preprocessing = ColumnTransformer(\n",
    "#     [('cat', categorical_pipe, categorical_columns),\n",
    "#      ('num', numerical_pipe, numerical_columns)])\n",
    "    \n",
    "#     X_val_t = preprocessing.fit_transform(X_val)\n",
    "    \n",
    "    \n",
    "#     for name, model in models:\n",
    "#         model.fit(X_train_t, y_train)\n",
    "#         y_pred = model.predict(X_val_t)\n",
    "#         score = roc_auc_score(y_val, y_pred)\n",
    "#         print(name, score)\n",
    "        \n",
    "    \n",
    "    \n",
    "#     print()"
   ]
  },
  {
   "cell_type": "code",
   "execution_count": 14,
   "metadata": {},
   "outputs": [],
   "source": [
    "def create_pipeline(df, model):\n",
    "    \n",
    "    categorical_pipe = Pipeline([\n",
    "        ('imputer', SimpleImputer(strategy='constant', fill_value='missing')),\n",
    "        ('onehot', OneHotEncoder(drop = 'first'))\n",
    "    ])\n",
    "\n",
    "    numerical_pipe = Pipeline([\n",
    "        ('imputer', SimpleImputer(strategy='median')),\n",
    "        ('scaler', MinMaxScaler())\n",
    "    ])\n",
    "\n",
    "    numerical_columns, categorical_columns = var_lists(df)\n",
    "\n",
    "    preprocessing = ColumnTransformer(\n",
    "        [('cat', categorical_pipe, categorical_columns),\n",
    "         ('num', numerical_pipe, numerical_columns)])\n",
    "    \n",
    "    classifier_pipe = Pipeline([\n",
    "        ('preprocess', preprocessing),\n",
    "        ('classifier', model)\n",
    "    ])\n",
    "\n",
    "    return classifier_pipe"
   ]
  },
  {
   "cell_type": "code",
   "execution_count": 15,
   "metadata": {},
   "outputs": [],
   "source": [
    "classifier_pipe = create_pipeline(X_train, RandomForestClassifier(random_state = SEED))"
   ]
  },
  {
   "cell_type": "code",
   "execution_count": 16,
   "metadata": {},
   "outputs": [
    {
     "data": {
      "text/plain": [
       "array([0.55351916, 0.63829375, 0.5906343 , 0.58116754, 0.62192779])"
      ]
     },
     "execution_count": 16,
     "metadata": {},
     "output_type": "execute_result"
    }
   ],
   "source": [
    "scores = cross_val_score(classifier_pipe, X_train, y_train, cv=5, scoring = 'roc_auc')\n",
    "scores"
   ]
  },
  {
   "cell_type": "code",
   "execution_count": 17,
   "metadata": {},
   "outputs": [
    {
     "data": {
      "text/plain": [
       "array([0.6218496 , 0.59537215, 0.61730864])"
      ]
     },
     "execution_count": 17,
     "metadata": {},
     "output_type": "execute_result"
    }
   ],
   "source": [
    "scores = cross_val_score(classifier_pipe, X_train, y_train, cv=StratifiedKFold(3), scoring = 'roc_auc')\n",
    "scores"
   ]
  },
  {
   "cell_type": "code",
   "execution_count": 18,
   "metadata": {},
   "outputs": [
    {
     "data": {
      "text/plain": [
       "0.6115101272284319"
      ]
     },
     "execution_count": 18,
     "metadata": {},
     "output_type": "execute_result"
    }
   ],
   "source": [
    "scores.mean()"
   ]
  },
  {
   "cell_type": "markdown",
   "metadata": {},
   "source": [
    "# Improvements"
   ]
  },
  {
   "cell_type": "markdown",
   "metadata": {},
   "source": [
    "## Best variables"
   ]
  },
  {
   "cell_type": "code",
   "execution_count": 19,
   "metadata": {},
   "outputs": [
    {
     "data": {
      "text/html": [
       "<div>\n",
       "<style scoped>\n",
       "    .dataframe tbody tr th:only-of-type {\n",
       "        vertical-align: middle;\n",
       "    }\n",
       "\n",
       "    .dataframe tbody tr th {\n",
       "        vertical-align: top;\n",
       "    }\n",
       "\n",
       "    .dataframe thead th {\n",
       "        text-align: right;\n",
       "    }\n",
       "</style>\n",
       "<table border=\"1\" class=\"dataframe\">\n",
       "  <thead>\n",
       "    <tr style=\"text-align: right;\">\n",
       "      <th></th>\n",
       "      <th>D19_SOZIALES</th>\n",
       "      <th>D19_KONSUMTYP</th>\n",
       "      <th>ALTERSKATEGORIE_GROB</th>\n",
       "      <th>CJT_TYP_5</th>\n",
       "      <th>CJT_TYP_6</th>\n",
       "      <th>RT_SCHNAEPPCHEN</th>\n",
       "      <th>ALTERSKATEGORIE_FEIN</th>\n",
       "      <th>LP_STATUS_FEIN</th>\n",
       "      <th>CJT_TYP_1</th>\n",
       "      <th>HH_EINKOMMEN_SCORE</th>\n",
       "      <th>CJT_TYP_3</th>\n",
       "      <th>LP_FAMILIE_FEIN</th>\n",
       "      <th>RT_KEIN_ANREIZ</th>\n",
       "      <th>AKT_DAT_KL</th>\n",
       "      <th>GFK_URLAUBERTYP</th>\n",
       "      <th>FINANZ_MINIMALIST</th>\n",
       "      <th>EINGEZOGENAM_HH_JAHR</th>\n",
       "      <th>AGER_TYP</th>\n",
       "      <th>ANZ_HAUSHALTE_AKTIV</th>\n",
       "      <th>CJT_GESAMTTYP</th>\n",
       "    </tr>\n",
       "    <tr>\n",
       "      <th>LNR</th>\n",
       "      <th></th>\n",
       "      <th></th>\n",
       "      <th></th>\n",
       "      <th></th>\n",
       "      <th></th>\n",
       "      <th></th>\n",
       "      <th></th>\n",
       "      <th></th>\n",
       "      <th></th>\n",
       "      <th></th>\n",
       "      <th></th>\n",
       "      <th></th>\n",
       "      <th></th>\n",
       "      <th></th>\n",
       "      <th></th>\n",
       "      <th></th>\n",
       "      <th></th>\n",
       "      <th></th>\n",
       "      <th></th>\n",
       "      <th></th>\n",
       "    </tr>\n",
       "  </thead>\n",
       "  <tbody>\n",
       "    <tr>\n",
       "      <th>1763</th>\n",
       "      <td>1.0</td>\n",
       "      <td>3.0</td>\n",
       "      <td>4</td>\n",
       "      <td>5.0</td>\n",
       "      <td>5.0</td>\n",
       "      <td>5.0</td>\n",
       "      <td>8.0</td>\n",
       "      <td>3.0</td>\n",
       "      <td>2.0</td>\n",
       "      <td>6.0</td>\n",
       "      <td>5.0</td>\n",
       "      <td>1.0</td>\n",
       "      <td>2.0</td>\n",
       "      <td>1.0</td>\n",
       "      <td>8.0</td>\n",
       "      <td>3</td>\n",
       "      <td>2004.0</td>\n",
       "      <td>2</td>\n",
       "      <td>15.0</td>\n",
       "      <td>2.0</td>\n",
       "    </tr>\n",
       "    <tr>\n",
       "      <th>1771</th>\n",
       "      <td>5.0</td>\n",
       "      <td>1.0</td>\n",
       "      <td>3</td>\n",
       "      <td>5.0</td>\n",
       "      <td>4.0</td>\n",
       "      <td>1.0</td>\n",
       "      <td>13.0</td>\n",
       "      <td>9.0</td>\n",
       "      <td>2.0</td>\n",
       "      <td>1.0</td>\n",
       "      <td>4.0</td>\n",
       "      <td>2.0</td>\n",
       "      <td>3.0</td>\n",
       "      <td>4.0</td>\n",
       "      <td>8.0</td>\n",
       "      <td>5</td>\n",
       "      <td>1994.0</td>\n",
       "      <td>1</td>\n",
       "      <td>1.0</td>\n",
       "      <td>2.0</td>\n",
       "    </tr>\n",
       "    <tr>\n",
       "      <th>1776</th>\n",
       "      <td>2.0</td>\n",
       "      <td>2.0</td>\n",
       "      <td>4</td>\n",
       "      <td>5.0</td>\n",
       "      <td>5.0</td>\n",
       "      <td>5.0</td>\n",
       "      <td>7.0</td>\n",
       "      <td>10.0</td>\n",
       "      <td>1.0</td>\n",
       "      <td>1.0</td>\n",
       "      <td>5.0</td>\n",
       "      <td>0.0</td>\n",
       "      <td>1.0</td>\n",
       "      <td>1.0</td>\n",
       "      <td>3.0</td>\n",
       "      <td>5</td>\n",
       "      <td>1997.0</td>\n",
       "      <td>1</td>\n",
       "      <td>0.0</td>\n",
       "      <td>4.0</td>\n",
       "    </tr>\n",
       "    <tr>\n",
       "      <th>1460</th>\n",
       "      <td>1.0</td>\n",
       "      <td>3.0</td>\n",
       "      <td>4</td>\n",
       "      <td>5.0</td>\n",
       "      <td>4.0</td>\n",
       "      <td>5.0</td>\n",
       "      <td>6.0</td>\n",
       "      <td>3.0</td>\n",
       "      <td>2.0</td>\n",
       "      <td>4.0</td>\n",
       "      <td>5.0</td>\n",
       "      <td>2.0</td>\n",
       "      <td>2.0</td>\n",
       "      <td>1.0</td>\n",
       "      <td>5.0</td>\n",
       "      <td>4</td>\n",
       "      <td>1994.0</td>\n",
       "      <td>2</td>\n",
       "      <td>4.0</td>\n",
       "      <td>2.0</td>\n",
       "    </tr>\n",
       "    <tr>\n",
       "      <th>1783</th>\n",
       "      <td>1.0</td>\n",
       "      <td>2.0</td>\n",
       "      <td>3</td>\n",
       "      <td>5.0</td>\n",
       "      <td>5.0</td>\n",
       "      <td>5.0</td>\n",
       "      <td>9.0</td>\n",
       "      <td>6.0</td>\n",
       "      <td>1.0</td>\n",
       "      <td>4.0</td>\n",
       "      <td>5.0</td>\n",
       "      <td>1.0</td>\n",
       "      <td>1.0</td>\n",
       "      <td>1.0</td>\n",
       "      <td>4.0</td>\n",
       "      <td>3</td>\n",
       "      <td>1994.0</td>\n",
       "      <td>2</td>\n",
       "      <td>53.0</td>\n",
       "      <td>6.0</td>\n",
       "    </tr>\n",
       "    <tr>\n",
       "      <th>...</th>\n",
       "      <td>...</td>\n",
       "      <td>...</td>\n",
       "      <td>...</td>\n",
       "      <td>...</td>\n",
       "      <td>...</td>\n",
       "      <td>...</td>\n",
       "      <td>...</td>\n",
       "      <td>...</td>\n",
       "      <td>...</td>\n",
       "      <td>...</td>\n",
       "      <td>...</td>\n",
       "      <td>...</td>\n",
       "      <td>...</td>\n",
       "      <td>...</td>\n",
       "      <td>...</td>\n",
       "      <td>...</td>\n",
       "      <td>...</td>\n",
       "      <td>...</td>\n",
       "      <td>...</td>\n",
       "      <td>...</td>\n",
       "    </tr>\n",
       "    <tr>\n",
       "      <th>66338</th>\n",
       "      <td>3.0</td>\n",
       "      <td>1.0</td>\n",
       "      <td>4</td>\n",
       "      <td>5.0</td>\n",
       "      <td>4.0</td>\n",
       "      <td>2.0</td>\n",
       "      <td>10.0</td>\n",
       "      <td>10.0</td>\n",
       "      <td>1.0</td>\n",
       "      <td>1.0</td>\n",
       "      <td>5.0</td>\n",
       "      <td>11.0</td>\n",
       "      <td>1.0</td>\n",
       "      <td>1.0</td>\n",
       "      <td>10.0</td>\n",
       "      <td>5</td>\n",
       "      <td>2010.0</td>\n",
       "      <td>2</td>\n",
       "      <td>1.0</td>\n",
       "      <td>3.0</td>\n",
       "    </tr>\n",
       "    <tr>\n",
       "      <th>67629</th>\n",
       "      <td>1.0</td>\n",
       "      <td>2.0</td>\n",
       "      <td>3</td>\n",
       "      <td>4.0</td>\n",
       "      <td>5.0</td>\n",
       "      <td>5.0</td>\n",
       "      <td>14.0</td>\n",
       "      <td>9.0</td>\n",
       "      <td>2.0</td>\n",
       "      <td>4.0</td>\n",
       "      <td>4.0</td>\n",
       "      <td>10.0</td>\n",
       "      <td>1.0</td>\n",
       "      <td>1.0</td>\n",
       "      <td>10.0</td>\n",
       "      <td>5</td>\n",
       "      <td>2001.0</td>\n",
       "      <td>-1</td>\n",
       "      <td>1.0</td>\n",
       "      <td>3.0</td>\n",
       "    </tr>\n",
       "    <tr>\n",
       "      <th>68273</th>\n",
       "      <td>1.0</td>\n",
       "      <td>2.0</td>\n",
       "      <td>4</td>\n",
       "      <td>5.0</td>\n",
       "      <td>5.0</td>\n",
       "      <td>5.0</td>\n",
       "      <td>10.0</td>\n",
       "      <td>9.0</td>\n",
       "      <td>1.0</td>\n",
       "      <td>4.0</td>\n",
       "      <td>5.0</td>\n",
       "      <td>10.0</td>\n",
       "      <td>4.0</td>\n",
       "      <td>1.0</td>\n",
       "      <td>6.0</td>\n",
       "      <td>5</td>\n",
       "      <td>1994.0</td>\n",
       "      <td>1</td>\n",
       "      <td>2.0</td>\n",
       "      <td>5.0</td>\n",
       "    </tr>\n",
       "    <tr>\n",
       "      <th>68581</th>\n",
       "      <td>0.0</td>\n",
       "      <td>4.0</td>\n",
       "      <td>4</td>\n",
       "      <td>3.0</td>\n",
       "      <td>5.0</td>\n",
       "      <td>2.0</td>\n",
       "      <td>13.0</td>\n",
       "      <td>1.0</td>\n",
       "      <td>3.0</td>\n",
       "      <td>5.0</td>\n",
       "      <td>4.0</td>\n",
       "      <td>10.0</td>\n",
       "      <td>4.0</td>\n",
       "      <td>1.0</td>\n",
       "      <td>2.0</td>\n",
       "      <td>2</td>\n",
       "      <td>1994.0</td>\n",
       "      <td>2</td>\n",
       "      <td>3.0</td>\n",
       "      <td>5.0</td>\n",
       "    </tr>\n",
       "    <tr>\n",
       "      <th>69224</th>\n",
       "      <td>0.0</td>\n",
       "      <td>9.0</td>\n",
       "      <td>4</td>\n",
       "      <td>5.0</td>\n",
       "      <td>5.0</td>\n",
       "      <td>4.0</td>\n",
       "      <td>9.0</td>\n",
       "      <td>4.0</td>\n",
       "      <td>2.0</td>\n",
       "      <td>5.0</td>\n",
       "      <td>5.0</td>\n",
       "      <td>1.0</td>\n",
       "      <td>4.0</td>\n",
       "      <td>1.0</td>\n",
       "      <td>5.0</td>\n",
       "      <td>3</td>\n",
       "      <td>1994.0</td>\n",
       "      <td>2</td>\n",
       "      <td>3.0</td>\n",
       "      <td>2.0</td>\n",
       "    </tr>\n",
       "  </tbody>\n",
       "</table>\n",
       "<p>42962 rows × 20 columns</p>\n",
       "</div>"
      ],
      "text/plain": [
       "       D19_SOZIALES  D19_KONSUMTYP  ALTERSKATEGORIE_GROB  CJT_TYP_5  \\\n",
       "LNR                                                                   \n",
       "1763            1.0            3.0                     4        5.0   \n",
       "1771            5.0            1.0                     3        5.0   \n",
       "1776            2.0            2.0                     4        5.0   \n",
       "1460            1.0            3.0                     4        5.0   \n",
       "1783            1.0            2.0                     3        5.0   \n",
       "...             ...            ...                   ...        ...   \n",
       "66338           3.0            1.0                     4        5.0   \n",
       "67629           1.0            2.0                     3        4.0   \n",
       "68273           1.0            2.0                     4        5.0   \n",
       "68581           0.0            4.0                     4        3.0   \n",
       "69224           0.0            9.0                     4        5.0   \n",
       "\n",
       "       CJT_TYP_6  RT_SCHNAEPPCHEN  ALTERSKATEGORIE_FEIN  LP_STATUS_FEIN  \\\n",
       "LNR                                                                       \n",
       "1763         5.0              5.0                   8.0             3.0   \n",
       "1771         4.0              1.0                  13.0             9.0   \n",
       "1776         5.0              5.0                   7.0            10.0   \n",
       "1460         4.0              5.0                   6.0             3.0   \n",
       "1783         5.0              5.0                   9.0             6.0   \n",
       "...          ...              ...                   ...             ...   \n",
       "66338        4.0              2.0                  10.0            10.0   \n",
       "67629        5.0              5.0                  14.0             9.0   \n",
       "68273        5.0              5.0                  10.0             9.0   \n",
       "68581        5.0              2.0                  13.0             1.0   \n",
       "69224        5.0              4.0                   9.0             4.0   \n",
       "\n",
       "       CJT_TYP_1  HH_EINKOMMEN_SCORE  CJT_TYP_3  LP_FAMILIE_FEIN  \\\n",
       "LNR                                                                \n",
       "1763         2.0                 6.0        5.0              1.0   \n",
       "1771         2.0                 1.0        4.0              2.0   \n",
       "1776         1.0                 1.0        5.0              0.0   \n",
       "1460         2.0                 4.0        5.0              2.0   \n",
       "1783         1.0                 4.0        5.0              1.0   \n",
       "...          ...                 ...        ...              ...   \n",
       "66338        1.0                 1.0        5.0             11.0   \n",
       "67629        2.0                 4.0        4.0             10.0   \n",
       "68273        1.0                 4.0        5.0             10.0   \n",
       "68581        3.0                 5.0        4.0             10.0   \n",
       "69224        2.0                 5.0        5.0              1.0   \n",
       "\n",
       "       RT_KEIN_ANREIZ  AKT_DAT_KL  GFK_URLAUBERTYP  FINANZ_MINIMALIST  \\\n",
       "LNR                                                                     \n",
       "1763              2.0         1.0              8.0                  3   \n",
       "1771              3.0         4.0              8.0                  5   \n",
       "1776              1.0         1.0              3.0                  5   \n",
       "1460              2.0         1.0              5.0                  4   \n",
       "1783              1.0         1.0              4.0                  3   \n",
       "...               ...         ...              ...                ...   \n",
       "66338             1.0         1.0             10.0                  5   \n",
       "67629             1.0         1.0             10.0                  5   \n",
       "68273             4.0         1.0              6.0                  5   \n",
       "68581             4.0         1.0              2.0                  2   \n",
       "69224             4.0         1.0              5.0                  3   \n",
       "\n",
       "       EINGEZOGENAM_HH_JAHR  AGER_TYP  ANZ_HAUSHALTE_AKTIV  CJT_GESAMTTYP  \n",
       "LNR                                                                        \n",
       "1763                 2004.0         2                 15.0            2.0  \n",
       "1771                 1994.0         1                  1.0            2.0  \n",
       "1776                 1997.0         1                  0.0            4.0  \n",
       "1460                 1994.0         2                  4.0            2.0  \n",
       "1783                 1994.0         2                 53.0            6.0  \n",
       "...                     ...       ...                  ...            ...  \n",
       "66338                2010.0         2                  1.0            3.0  \n",
       "67629                2001.0        -1                  1.0            3.0  \n",
       "68273                1994.0         1                  2.0            5.0  \n",
       "68581                1994.0         2                  3.0            5.0  \n",
       "69224                1994.0         2                  3.0            2.0  \n",
       "\n",
       "[42962 rows x 20 columns]"
      ]
     },
     "execution_count": 19,
     "metadata": {},
     "output_type": "execute_result"
    }
   ],
   "source": [
    "X_train[RF_vars]"
   ]
  },
  {
   "cell_type": "code",
   "execution_count": 20,
   "metadata": {},
   "outputs": [
    {
     "data": {
      "text/plain": [
       "0.6782882921859069"
      ]
     },
     "execution_count": 20,
     "metadata": {},
     "output_type": "execute_result"
    }
   ],
   "source": [
    "classifier_pipe = create_pipeline(X_train[RF_vars], RandomForestClassifier(random_state = SEED))\n",
    "\n",
    "scores = cross_val_score(classifier_pipe, X_train, y_train, cv=StratifiedKFold(3), scoring = 'roc_auc')\n",
    "scores.mean()"
   ]
  },
  {
   "cell_type": "code",
   "execution_count": null,
   "metadata": {},
   "outputs": [],
   "source": []
  },
  {
   "cell_type": "markdown",
   "metadata": {},
   "source": [
    "## Tuning hyperparameters"
   ]
  },
  {
   "cell_type": "markdown",
   "metadata": {},
   "source": [
    "### Regular tuning"
   ]
  },
  {
   "cell_type": "code",
   "execution_count": 28,
   "metadata": {},
   "outputs": [],
   "source": [
    "n_estimators = list(range(20,100,40))\n",
    "max_depth = list(range(2,20,5))\n",
    "max_features = list(range(2,20,5))"
   ]
  },
  {
   "cell_type": "code",
   "execution_count": 29,
   "metadata": {},
   "outputs": [],
   "source": [
    "parameters = dict(classifier__n_estimators=n_estimators, \n",
    "                  classifier__max_depth=max_depth,\n",
    "                  classifier__max_features=max_features)\n",
    "                \n",
    "#                  classifier__class_weight=class_weight"
   ]
  },
  {
   "cell_type": "code",
   "execution_count": 30,
   "metadata": {},
   "outputs": [
    {
     "name": "stdout",
     "output_type": "stream",
     "text": [
      "CPU times: user 2min 34s, sys: 2.94 s, total: 2min 37s\n",
      "Wall time: 2min 37s\n"
     ]
    },
    {
     "data": {
      "text/plain": [
       "GridSearchCV(cv=None, error_score=nan,\n",
       "             estimator=Pipeline(memory=None,\n",
       "                                steps=[('preprocess',\n",
       "                                        ColumnTransformer(n_jobs=None,\n",
       "                                                          remainder='drop',\n",
       "                                                          sparse_threshold=0.3,\n",
       "                                                          transformer_weights=None,\n",
       "                                                          transformers=[('cat',\n",
       "                                                                         Pipeline(memory=None,\n",
       "                                                                                  steps=[('imputer',\n",
       "                                                                                          SimpleImputer(add_indicator=False,\n",
       "                                                                                                        copy=True,\n",
       "                                                                                                        fill_value='missing',\n",
       "                                                                                                        missing_values=nan,\n",
       "                                                                                                        strategy='constant',\n",
       "                                                                                                        verb...\n",
       "                                                               min_weight_fraction_leaf=0.0,\n",
       "                                                               n_estimators=100,\n",
       "                                                               n_jobs=None,\n",
       "                                                               oob_score=False,\n",
       "                                                               random_state=0,\n",
       "                                                               verbose=0,\n",
       "                                                               warm_start=False))],\n",
       "                                verbose=False),\n",
       "             iid='deprecated', n_jobs=None,\n",
       "             param_grid={'classifier__max_depth': [2, 7, 12, 17],\n",
       "                         'classifier__max_features': [2, 7, 12, 17],\n",
       "                         'classifier__n_estimators': [20, 60]},\n",
       "             pre_dispatch='2*n_jobs', refit=True, return_train_score=False,\n",
       "             scoring=None, verbose=0)"
      ]
     },
     "execution_count": 30,
     "metadata": {},
     "output_type": "execute_result"
    }
   ],
   "source": [
    "%%time\n",
    "\n",
    "classifier_pipe = create_pipeline(X_train[RF_vars], RandomForestClassifier(random_state = SEED))\n",
    "\n",
    "# Create a grid search object\n",
    "clf = GridSearchCV(classifier_pipe, parameters)\n",
    "\n",
    "# Fit the grid search\n",
    "clf.fit(X_train, y_train)"
   ]
  },
  {
   "cell_type": "code",
   "execution_count": 31,
   "metadata": {},
   "outputs": [
    {
     "name": "stdout",
     "output_type": "stream",
     "text": [
      "Best n_estimators: 20\n",
      "Best max_depth: 2\n",
      "Best max_features: 2\n",
      "Best min_samples_split: 2\n"
     ]
    }
   ],
   "source": [
    "# View The Best Parameters\n",
    "print('Best n_estimators:', clf.best_estimator_.get_params()['classifier__n_estimators'])\n",
    "print('Best max_depth:', clf.best_estimator_.get_params()['classifier__max_depth'])\n",
    "print('Best max_features:', clf.best_estimator_.get_params()['classifier__max_features'])\n",
    "print('Best min_samples_split:', clf.best_estimator_.get_params()['classifier__min_samples_split'])"
   ]
  },
  {
   "cell_type": "code",
   "execution_count": 32,
   "metadata": {},
   "outputs": [
    {
     "data": {
      "text/plain": [
       "0.706542445967434"
      ]
     },
     "execution_count": 32,
     "metadata": {},
     "output_type": "execute_result"
    }
   ],
   "source": [
    "# Fit the grid search using 3-Fold cross validation\n",
    "scores = cross_val_score(clf, X_train, y_train, cv=StratifiedKFold(3), scoring = 'roc_auc')\n",
    "scores.mean()"
   ]
  },
  {
   "cell_type": "markdown",
   "metadata": {},
   "source": [
    "#### Randomized"
   ]
  },
  {
   "cell_type": "code",
   "execution_count": 33,
   "metadata": {},
   "outputs": [],
   "source": [
    "n_estimators = list(range(10,150,10))\n",
    "max_depth = list(range(1,20,3))\n",
    "max_features = list(range(1,20,3))\n",
    "min_samples_split = [2,3,4,5]\n",
    "# class_weight = ['balanced', 'balanced_subsample']"
   ]
  },
  {
   "cell_type": "code",
   "execution_count": 34,
   "metadata": {},
   "outputs": [],
   "source": [
    "parameters = dict(classifier__n_estimators=n_estimators, \n",
    "                  classifier__max_depth=max_depth,\n",
    "                  classifier__max_features=max_features,\n",
    "                 classifier__min_samples_split=min_samples_split)\n",
    "                \n",
    "#                  classifier__class_weight=class_weight"
   ]
  },
  {
   "cell_type": "code",
   "execution_count": 35,
   "metadata": {
    "scrolled": true
   },
   "outputs": [
    {
     "name": "stdout",
     "output_type": "stream",
     "text": [
      "CPU times: user 1min 21s, sys: 910 ms, total: 1min 21s\n",
      "Wall time: 1min 22s\n"
     ]
    },
    {
     "data": {
      "text/plain": [
       "RandomizedSearchCV(cv=None, error_score=nan,\n",
       "                   estimator=Pipeline(memory=None,\n",
       "                                      steps=[('preprocess',\n",
       "                                              ColumnTransformer(n_jobs=None,\n",
       "                                                                remainder='drop',\n",
       "                                                                sparse_threshold=0.3,\n",
       "                                                                transformer_weights=None,\n",
       "                                                                transformers=[('cat',\n",
       "                                                                               Pipeline(memory=None,\n",
       "                                                                                        steps=[('imputer',\n",
       "                                                                                                SimpleImputer(add_indicator=False,\n",
       "                                                                                                              copy=True,\n",
       "                                                                                                              fill_value='missing',\n",
       "                                                                                                              missing_values=nan,\n",
       "                                                                                                              strategy='constant...\n",
       "                   iid='deprecated', n_iter=10, n_jobs=None,\n",
       "                   param_distributions={'classifier__max_depth': [1, 4, 7, 10,\n",
       "                                                                  13, 16, 19],\n",
       "                                        'classifier__max_features': [1, 4, 7,\n",
       "                                                                     10, 13, 16,\n",
       "                                                                     19],\n",
       "                                        'classifier__min_samples_split': [2, 3,\n",
       "                                                                          4,\n",
       "                                                                          5],\n",
       "                                        'classifier__n_estimators': [10, 20, 30,\n",
       "                                                                     40, 50, 60,\n",
       "                                                                     70, 80, 90,\n",
       "                                                                     100, 110,\n",
       "                                                                     120, 130,\n",
       "                                                                     140]},\n",
       "                   pre_dispatch='2*n_jobs', random_state=0, refit=True,\n",
       "                   return_train_score=False, scoring=None, verbose=0)"
      ]
     },
     "execution_count": 35,
     "metadata": {},
     "output_type": "execute_result"
    }
   ],
   "source": [
    "%%time\n",
    "\n",
    "classifier_pipe = create_pipeline(X_train[RF_vars], RandomForestClassifier(random_state = SEED))\n",
    "\n",
    "# Create a grid search object\n",
    "clf = RandomizedSearchCV(classifier_pipe, parameters, n_iter = 10, random_state = SEED)\n",
    "\n",
    "# Fit the grid search\n",
    "clf.fit(X_train, y_train)"
   ]
  },
  {
   "cell_type": "code",
   "execution_count": 36,
   "metadata": {},
   "outputs": [
    {
     "name": "stdout",
     "output_type": "stream",
     "text": [
      "Best n_estimators: 30\n",
      "Best max_depth: 19\n",
      "Best max_features: 19\n",
      "Best min_samples_split: 5\n"
     ]
    }
   ],
   "source": [
    "# View The Best Parameters\n",
    "print('Best n_estimators:', clf.best_estimator_.get_params()['classifier__n_estimators'])\n",
    "print('Best max_depth:', clf.best_estimator_.get_params()['classifier__max_depth'])\n",
    "print('Best max_features:', clf.best_estimator_.get_params()['classifier__max_features'])\n",
    "print('Best min_samples_split:', clf.best_estimator_.get_params()['classifier__min_samples_split'])"
   ]
  },
  {
   "cell_type": "code",
   "execution_count": 37,
   "metadata": {},
   "outputs": [
    {
     "data": {
      "text/plain": [
       "0.7077893956097594"
      ]
     },
     "execution_count": 37,
     "metadata": {},
     "output_type": "execute_result"
    }
   ],
   "source": [
    "# Fit the grid search using 3-Fold cross validation\n",
    "scores = cross_val_score(clf, X_train, y_train, cv=StratifiedKFold(5), scoring = 'roc_auc')\n",
    "scores.mean()"
   ]
  },
  {
   "cell_type": "code",
   "execution_count": null,
   "metadata": {},
   "outputs": [],
   "source": []
  },
  {
   "cell_type": "markdown",
   "metadata": {},
   "source": [
    "## Pipeline with PCA"
   ]
  },
  {
   "cell_type": "code",
   "execution_count": 38,
   "metadata": {},
   "outputs": [],
   "source": [
    "def create_pipeline_PCA(df, pca_model, classifier):\n",
    "    \n",
    "    categorical_pipe = Pipeline([\n",
    "        ('imputer', SimpleImputer(strategy='constant', fill_value='missing')),\n",
    "        ('onehot', OneHotEncoder(drop = 'first'))\n",
    "    ])\n",
    "\n",
    "    numerical_pipe = Pipeline([\n",
    "        ('imputer', SimpleImputer(strategy='median')),\n",
    "        ('scaler', MinMaxScaler())\n",
    "    ])\n",
    "\n",
    "    numerical_columns, categorical_columns = var_lists(df)\n",
    "\n",
    "    preprocessing = ColumnTransformer(\n",
    "        [('cat', categorical_pipe, categorical_columns),\n",
    "         ('num', numerical_pipe, numerical_columns)])\n",
    "    \n",
    "    classifier_pipe = Pipeline([\n",
    "        ('preprocess', preprocessing),\n",
    "        ('pca', pca_model),\n",
    "        ('classifier', classifier)\n",
    "    ])\n",
    "\n",
    "    return classifier_pipe"
   ]
  },
  {
   "cell_type": "code",
   "execution_count": null,
   "metadata": {},
   "outputs": [],
   "source": [
    "classifier_pipe_pca = create_pipeline_PCA(X_train, PCA(50), RandomForestClassifier(random_state = SEED))"
   ]
  },
  {
   "cell_type": "code",
   "execution_count": null,
   "metadata": {},
   "outputs": [],
   "source": [
    "scores = cross_val_score(classifier_pipe_pca, X_train, y_train, cv=5, scoring = 'roc_auc')\n",
    "scores.mean()"
   ]
  },
  {
   "cell_type": "code",
   "execution_count": 39,
   "metadata": {},
   "outputs": [],
   "source": [
    "classifier_pipe_pca = create_pipeline_PCA(X_train, KernelPCA(5), RandomForestClassifier(random_state = SEED))"
   ]
  },
  {
   "cell_type": "code",
   "execution_count": 40,
   "metadata": {},
   "outputs": [
    {
     "name": "stdout",
     "output_type": "stream",
     "text": [
      "CPU times: user 17min 12s, sys: 7min 50s, total: 25min 3s\n",
      "Wall time: 16min 2s\n"
     ]
    },
    {
     "data": {
      "text/plain": [
       "0.4997928605676332"
      ]
     },
     "execution_count": 40,
     "metadata": {},
     "output_type": "execute_result"
    }
   ],
   "source": [
    "%%time \n",
    "\n",
    "scores = cross_val_score(classifier_pipe_pca, X_train, y_train, cv=5, scoring = 'roc_auc')\n",
    "scores.mean()"
   ]
  },
  {
   "cell_type": "markdown",
   "metadata": {},
   "source": [
    "# Lightgbm"
   ]
  },
  {
   "cell_type": "code",
   "execution_count": 41,
   "metadata": {},
   "outputs": [],
   "source": [
    "lgb_pipe = create_pipeline(X_train, \n",
    "                                  lgb.LGBMClassifier(n_estimators = 15,\n",
    "                                                     class_weight = 'balanced', \n",
    "                                                     random_state = SEED))\n"
   ]
  },
  {
   "cell_type": "code",
   "execution_count": 42,
   "metadata": {},
   "outputs": [
    {
     "data": {
      "text/plain": [
       "0.7445071821178351"
      ]
     },
     "execution_count": 42,
     "metadata": {},
     "output_type": "execute_result"
    }
   ],
   "source": [
    "scores = cross_val_score(lgb_pipe, X_train, y_train, cv=5, scoring = 'roc_auc')\n",
    "scores.mean()"
   ]
  },
  {
   "cell_type": "code",
   "execution_count": 44,
   "metadata": {},
   "outputs": [],
   "source": [
    "lgb_pipe = create_pipeline(X_train[RF_vars], \n",
    "                                  lgb.LGBMClassifier(n_estimators = 15,\n",
    "                                                     class_weight = 'balanced', \n",
    "                                                     random_state = SEED))\n"
   ]
  },
  {
   "cell_type": "code",
   "execution_count": 45,
   "metadata": {},
   "outputs": [
    {
     "data": {
      "text/plain": [
       "0.7574308414165658"
      ]
     },
     "execution_count": 45,
     "metadata": {},
     "output_type": "execute_result"
    }
   ],
   "source": [
    "scores = cross_val_score(lgb_pipe, X_train, y_train, cv=5, scoring = 'roc_auc')\n",
    "scores.mean()"
   ]
  },
  {
   "cell_type": "markdown",
   "metadata": {},
   "source": [
    "## Hyperparameter tuning"
   ]
  },
  {
   "cell_type": "code",
   "execution_count": 64,
   "metadata": {},
   "outputs": [],
   "source": [
    "n_estimators = list(range(10,150,10))\n",
    "max_depth = list(range(1,20,3))\n",
    "max_features = list(range(1,20,3))\n",
    "num_leaves = [2,3,4,5]"
   ]
  },
  {
   "cell_type": "code",
   "execution_count": 65,
   "metadata": {},
   "outputs": [],
   "source": [
    "parameters = dict(classifier__n_estimators=n_estimators, \n",
    "                  classifier__max_depth=max_depth,\n",
    "                  classifier__max_features=max_features,\n",
    "                  classifier__num_leaves=num_leaves)"
   ]
  },
  {
   "cell_type": "code",
   "execution_count": 66,
   "metadata": {},
   "outputs": [
    {
     "name": "stdout",
     "output_type": "stream",
     "text": [
      "CPU times: user 4min 55s, sys: 7.95 s, total: 5min 3s\n",
      "Wall time: 26.6 s\n"
     ]
    },
    {
     "data": {
      "text/plain": [
       "RandomizedSearchCV(cv=None, error_score=nan,\n",
       "                   estimator=Pipeline(memory=None,\n",
       "                                      steps=[('preprocess',\n",
       "                                              ColumnTransformer(n_jobs=None,\n",
       "                                                                remainder='drop',\n",
       "                                                                sparse_threshold=0.3,\n",
       "                                                                transformer_weights=None,\n",
       "                                                                transformers=[('cat',\n",
       "                                                                               Pipeline(memory=None,\n",
       "                                                                                        steps=[('imputer',\n",
       "                                                                                                SimpleImputer(add_indicator=False,\n",
       "                                                                                                              copy=True,\n",
       "                                                                                                              fill_value='missing',\n",
       "                                                                                                              missing_values=nan,\n",
       "                                                                                                              strategy='constant...\n",
       "                   iid='deprecated', n_iter=20, n_jobs=None,\n",
       "                   param_distributions={'classifier__max_depth': [1, 4, 7, 10,\n",
       "                                                                  13, 16, 19],\n",
       "                                        'classifier__max_features': [1, 4, 7,\n",
       "                                                                     10, 13, 16,\n",
       "                                                                     19],\n",
       "                                        'classifier__n_estimators': [10, 20, 30,\n",
       "                                                                     40, 50, 60,\n",
       "                                                                     70, 80, 90,\n",
       "                                                                     100, 110,\n",
       "                                                                     120, 130,\n",
       "                                                                     140],\n",
       "                                        'classifier__num_leaves': [2, 3, 4, 5]},\n",
       "                   pre_dispatch='2*n_jobs', random_state=0, refit=True,\n",
       "                   return_train_score=False, scoring='roc_auc', verbose=0)"
      ]
     },
     "execution_count": 66,
     "metadata": {},
     "output_type": "execute_result"
    }
   ],
   "source": [
    "%%time\n",
    "\n",
    "lgb_pipe = create_pipeline(X_train[RF_vars], lgb.LGBMClassifier(random_state = SEED))\n",
    "\n",
    "# Create a grid search object\n",
    "clf = RandomizedSearchCV(lgb_pipe, parameters, n_iter = 20, random_state = SEED, scoring = 'roc_auc', refit = 'roc_auc')\n",
    "\n",
    "# Fit the grid search\n",
    "clf.fit(X_train, y_train)"
   ]
  },
  {
   "cell_type": "code",
   "execution_count": 67,
   "metadata": {},
   "outputs": [
    {
     "name": "stdout",
     "output_type": "stream",
     "text": [
      "Best n_estimators: 30\n",
      "Best max_depth: 19\n",
      "Best max_features: 1\n",
      "Best min_samplnum_leaveses_split: 4\n"
     ]
    }
   ],
   "source": [
    "# View The Best Parameters\n",
    "print('Best n_estimators:', clf.best_estimator_.get_params()['classifier__n_estimators'])\n",
    "print('Best max_depth:', clf.best_estimator_.get_params()['classifier__max_depth'])\n",
    "print('Best max_features:', clf.best_estimator_.get_params()['classifier__max_features'])\n",
    "print('Best min_samplnum_leaveses_split:', clf.best_estimator_.get_params()['classifier__num_leaves'])"
   ]
  },
  {
   "cell_type": "code",
   "execution_count": 68,
   "metadata": {},
   "outputs": [
    {
     "data": {
      "text/plain": [
       "0.7693842333403556"
      ]
     },
     "execution_count": 68,
     "metadata": {},
     "output_type": "execute_result"
    }
   ],
   "source": [
    "# Fit the grid search using 5-Fold cross validation\n",
    "scores = cross_val_score(clf, X_train, y_train, cv=StratifiedKFold(5), scoring = 'roc_auc')\n",
    "scores.mean()"
   ]
  },
  {
   "cell_type": "code",
   "execution_count": 70,
   "metadata": {},
   "outputs": [
    {
     "data": {
      "text/plain": [
       "0.7710602707092367"
      ]
     },
     "execution_count": 70,
     "metadata": {},
     "output_type": "execute_result"
    }
   ],
   "source": [
    "# Fit the grid search using 5-Fold cross validation\n",
    "scores = cross_val_score(clf.best_estimator_, X_train, y_train, cv=StratifiedKFold(5), scoring = 'roc_auc')\n",
    "scores.mean()"
   ]
  },
  {
   "cell_type": "markdown",
   "metadata": {},
   "source": [
    "# Prepare submission"
   ]
  },
  {
   "cell_type": "code",
   "execution_count": 97,
   "metadata": {},
   "outputs": [
    {
     "name": "stdout",
     "output_type": "stream",
     "text": [
      "Initial df shape: (42833, 365)\n",
      "Variables with missing values...\n",
      "Your selected dataframe has 365 columns.\n",
      "There are 273 columns that have missing values.\n",
      "\tDropped 5 variables\n",
      "Highly correlated variables...\n",
      "\tDropped 68 variables\n",
      "Constant variables\n",
      "\tDropped 0 variables\n",
      "Final df shape: (42833, 296)\n"
     ]
    }
   ],
   "source": [
    "test_clean = clean_data(test)"
   ]
  },
  {
   "cell_type": "code",
   "execution_count": 98,
   "metadata": {},
   "outputs": [
    {
     "data": {
      "text/plain": [
       "Pipeline(memory=None,\n",
       "         steps=[('preprocess',\n",
       "                 ColumnTransformer(n_jobs=None, remainder='drop',\n",
       "                                   sparse_threshold=0.3,\n",
       "                                   transformer_weights=None,\n",
       "                                   transformers=[('cat',\n",
       "                                                  Pipeline(memory=None,\n",
       "                                                           steps=[('imputer',\n",
       "                                                                   SimpleImputer(add_indicator=False,\n",
       "                                                                                 copy=True,\n",
       "                                                                                 fill_value='missing',\n",
       "                                                                                 missing_values=nan,\n",
       "                                                                                 strategy='constant',\n",
       "                                                                                 verbose=0)),\n",
       "                                                                  ('onehot',\n",
       "                                                                   OneHotEncoder(categories='aut...\n",
       "                 LGBMClassifier(boosting_type='gbdt', class_weight=None,\n",
       "                                colsample_bytree=1.0, importance_type='split',\n",
       "                                learning_rate=0.1, max_depth=19, max_features=1,\n",
       "                                min_child_samples=20, min_child_weight=0.001,\n",
       "                                min_split_gain=0.0, n_estimators=30, n_jobs=-1,\n",
       "                                num_leaves=4, objective=None, random_state=0,\n",
       "                                reg_alpha=0.0, reg_lambda=0.0, silent=True,\n",
       "                                subsample=1.0, subsample_for_bin=200000,\n",
       "                                subsample_freq=0))],\n",
       "         verbose=False)"
      ]
     },
     "execution_count": 98,
     "metadata": {},
     "output_type": "execute_result"
    }
   ],
   "source": [
    "final_model = clf.best_estimator_\n",
    "final_model.fit(X_train, y_train)"
   ]
  },
  {
   "cell_type": "code",
   "execution_count": 99,
   "metadata": {},
   "outputs": [],
   "source": [
    "test_clean = final_model[0].fit_transform(test_clean)"
   ]
  },
  {
   "cell_type": "code",
   "execution_count": 100,
   "metadata": {},
   "outputs": [
    {
     "data": {
      "text/plain": [
       "((42833, 20), (42962, 296))"
      ]
     },
     "execution_count": 100,
     "metadata": {},
     "output_type": "execute_result"
    }
   ],
   "source": [
    "test_clean.shape, train_clean.shape"
   ]
  },
  {
   "cell_type": "code",
   "execution_count": 101,
   "metadata": {},
   "outputs": [],
   "source": [
    "sub = final_model[1].predict_proba(test_clean)[:,1]"
   ]
  },
  {
   "cell_type": "code",
   "execution_count": 102,
   "metadata": {},
   "outputs": [
    {
     "data": {
      "text/html": [
       "<div>\n",
       "<style scoped>\n",
       "    .dataframe tbody tr th:only-of-type {\n",
       "        vertical-align: middle;\n",
       "    }\n",
       "\n",
       "    .dataframe tbody tr th {\n",
       "        vertical-align: top;\n",
       "    }\n",
       "\n",
       "    .dataframe thead th {\n",
       "        text-align: right;\n",
       "    }\n",
       "</style>\n",
       "<table border=\"1\" class=\"dataframe\">\n",
       "  <thead>\n",
       "    <tr style=\"text-align: right;\">\n",
       "      <th></th>\n",
       "      <th>LNR</th>\n",
       "      <th>RESPONSE</th>\n",
       "    </tr>\n",
       "  </thead>\n",
       "  <tbody>\n",
       "    <tr>\n",
       "      <th>0</th>\n",
       "      <td>1754</td>\n",
       "      <td>0.029099</td>\n",
       "    </tr>\n",
       "    <tr>\n",
       "      <th>1</th>\n",
       "      <td>1770</td>\n",
       "      <td>0.026021</td>\n",
       "    </tr>\n",
       "    <tr>\n",
       "      <th>2</th>\n",
       "      <td>1465</td>\n",
       "      <td>0.004303</td>\n",
       "    </tr>\n",
       "    <tr>\n",
       "      <th>3</th>\n",
       "      <td>1470</td>\n",
       "      <td>0.007838</td>\n",
       "    </tr>\n",
       "    <tr>\n",
       "      <th>4</th>\n",
       "      <td>1478</td>\n",
       "      <td>0.003802</td>\n",
       "    </tr>\n",
       "    <tr>\n",
       "      <th>5</th>\n",
       "      <td>1782</td>\n",
       "      <td>0.003858</td>\n",
       "    </tr>\n",
       "    <tr>\n",
       "      <th>6</th>\n",
       "      <td>1485</td>\n",
       "      <td>0.003037</td>\n",
       "    </tr>\n",
       "    <tr>\n",
       "      <th>7</th>\n",
       "      <td>1519</td>\n",
       "      <td>0.022407</td>\n",
       "    </tr>\n",
       "    <tr>\n",
       "      <th>8</th>\n",
       "      <td>1835</td>\n",
       "      <td>0.029174</td>\n",
       "    </tr>\n",
       "    <tr>\n",
       "      <th>9</th>\n",
       "      <td>1522</td>\n",
       "      <td>0.004409</td>\n",
       "    </tr>\n",
       "  </tbody>\n",
       "</table>\n",
       "</div>"
      ],
      "text/plain": [
       "    LNR  RESPONSE\n",
       "0  1754  0.029099\n",
       "1  1770  0.026021\n",
       "2  1465  0.004303\n",
       "3  1470  0.007838\n",
       "4  1478  0.003802\n",
       "5  1782  0.003858\n",
       "6  1485  0.003037\n",
       "7  1519  0.022407\n",
       "8  1835  0.029174\n",
       "9  1522  0.004409"
      ]
     },
     "execution_count": 102,
     "metadata": {},
     "output_type": "execute_result"
    }
   ],
   "source": [
    "submission = pd.DataFrame({'LNR':test.LNR, 'RESPONSE':sub})\n",
    "submission.head(10)"
   ]
  },
  {
   "cell_type": "code",
   "execution_count": 105,
   "metadata": {},
   "outputs": [],
   "source": [
    "submission.to_csv('data/submission_lgb_1.csv', index = False)"
   ]
  },
  {
   "cell_type": "code",
   "execution_count": null,
   "metadata": {},
   "outputs": [],
   "source": []
  },
  {
   "cell_type": "markdown",
   "metadata": {},
   "source": [
    "Oversampling"
   ]
  },
  {
   "cell_type": "code",
   "execution_count": null,
   "metadata": {},
   "outputs": [],
   "source": []
  },
  {
   "cell_type": "code",
   "execution_count": null,
   "metadata": {},
   "outputs": [],
   "source": []
  },
  {
   "cell_type": "code",
   "execution_count": null,
   "metadata": {},
   "outputs": [],
   "source": []
  }
 ],
 "metadata": {
  "kernelspec": {
   "display_name": "Python 3",
   "language": "python",
   "name": "python3"
  },
  "language_info": {
   "codemirror_mode": {
    "name": "ipython",
    "version": 3
   },
   "file_extension": ".py",
   "mimetype": "text/x-python",
   "name": "python",
   "nbconvert_exporter": "python",
   "pygments_lexer": "ipython3",
   "version": "3.7.6"
  },
  "toc": {
   "base_numbering": 1,
   "nav_menu": {},
   "number_sections": true,
   "sideBar": true,
   "skip_h1_title": false,
   "title_cell": "Table of Contents",
   "title_sidebar": "Contents",
   "toc_cell": false,
   "toc_position": {},
   "toc_section_display": true,
   "toc_window_display": false
  }
 },
 "nbformat": 4,
 "nbformat_minor": 4
}
