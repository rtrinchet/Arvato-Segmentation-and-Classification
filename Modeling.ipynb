{
 "cells": [
  {
   "cell_type": "code",
   "execution_count": null,
   "metadata": {},
   "outputs": [],
   "source": [
    "import pandas as pd\n",
    "import matplotlib.pyplot as plt\n",
    "from sklearn import model_selection\n",
    "from sklearn.ensemble import RandomForestClassifier\n",
    "from sklearn.model_selection import cross_val_score, StratifiedKFold, GridSearchCV, RandomizedSearchCV\n",
    "\n",
    "from sklearn.decomposition import PCA\n",
    "\n",
    "import lightgbm as lgb\n",
    "\n",
    "from imblearn.pipeline import Pipeline\n",
    "from imblearn.over_sampling import SMOTE, RandomOverSampler\n",
    "from imblearn.under_sampling import RandomUnderSampler\n",
    "\n",
    "import warnings\n",
    "warnings.filterwarnings('ignore')"
   ]
  },
  {
   "cell_type": "code",
   "execution_count": 2,
   "metadata": {},
   "outputs": [],
   "source": [
    "from src.helpers import *\n",
    "from src.feature_selection import var_lists, get_feats\n",
    "from src.read_data import *\n",
    "from src.cleaner import clean_data\n",
    "\n",
    "from src.dimensionality_reduction import *\n",
    "\n",
    "from src.modeling import *"
   ]
  },
  {
   "cell_type": "code",
   "execution_count": 3,
   "metadata": {},
   "outputs": [
    {
     "name": "stdout",
     "output_type": "stream",
     "text": [
      "Reducing memory usage...\n",
      "Mem. usage decreased to 27.86 Mb (76.8% reduction)\n",
      "\n",
      "Completed. Shape of the data:  (42962, 367)\n",
      "Reducing memory usage...\n",
      "Mem. usage decreased to 27.74 Mb (76.8% reduction)\n",
      "\n",
      "Completed. Shape of the data:  (42833, 366)\n",
      "CPU times: user 7.73 s, sys: 2.5 s, total: 10.2 s\n",
      "Wall time: 10.2 s\n"
     ]
    }
   ],
   "source": [
    "%%time \n",
    "\n",
    "train     = read_data('Udacity_MAILOUT_052018_TRAIN.csv')\n",
    "test      = read_data('Udacity_MAILOUT_052018_TEST.csv')"
   ]
  },
  {
   "cell_type": "code",
   "execution_count": 4,
   "metadata": {},
   "outputs": [
    {
     "name": "stdout",
     "output_type": "stream",
     "text": [
      "data/clean_data.pickle\n"
     ]
    },
    {
     "data": {
      "text/plain": [
       "((178244, 296), (38330, 300), 20, 20)"
      ]
     },
     "execution_count": 4,
     "metadata": {},
     "output_type": "execute_result"
    }
   ],
   "source": [
    "clean_data_dict = load_dict('clean_data')\n",
    "\n",
    "azdias_clean    = clean_data_dict['azdias_data']\n",
    "customers_clean = clean_data_dict['customers_data']\n",
    "RF_vars         = clean_data_dict['RF_vars']\n",
    "eli5_vars       = clean_data_dict['eli5_vars']\n",
    "\n",
    "azdias_clean.shape, customers_clean.shape, len(RF_vars), len(eli5_vars)"
   ]
  },
  {
   "cell_type": "code",
   "execution_count": 5,
   "metadata": {},
   "outputs": [],
   "source": [
    "SEED = 0"
   ]
  },
  {
   "cell_type": "code",
   "execution_count": 6,
   "metadata": {},
   "outputs": [
    {
     "name": "stdout",
     "output_type": "stream",
     "text": [
      "Initial df shape: (42962, 366)\n",
      "Variables with missing values...\n",
      "Your selected dataframe has 366 columns.\n",
      "There are 273 columns that have missing values.\n",
      "\tDropped 5 variables\n",
      "Highly correlated variables...\n",
      "\tDropped 67 variables\n",
      "Constant variables\n",
      "\tDropped 0 variables\n",
      "Final df shape: (42962, 297)\n",
      "\n",
      "Initial df shape: (42833, 365)\n",
      "Variables with missing values...\n",
      "Your selected dataframe has 365 columns.\n",
      "There are 273 columns that have missing values.\n",
      "\tDropped 5 variables\n",
      "Highly correlated variables...\n",
      "\tDropped 68 variables\n",
      "Constant variables\n",
      "\tDropped 0 variables\n",
      "Final df shape: (42833, 296)\n",
      "CPU times: user 26.9 s, sys: 526 ms, total: 27.5 s\n",
      "Wall time: 27.5 s\n"
     ]
    }
   ],
   "source": [
    "%%time\n",
    "\n",
    "train_clean = clean_data(train)\n",
    "print()\n",
    "test_clean = clean_data(test)"
   ]
  },
  {
   "cell_type": "code",
   "execution_count": 7,
   "metadata": {},
   "outputs": [
    {
     "data": {
      "text/plain": [
       "((42962, 295), (42833, 294))"
      ]
     },
     "execution_count": 7,
     "metadata": {},
     "output_type": "execute_result"
    }
   ],
   "source": [
    "final_vars = list(set(test_clean.columns).intersection(set(train_clean.columns)))\n",
    "test_clean = test_clean[final_vars]\n",
    "final_vars.extend(['RESPONSE'])\n",
    "train_clean = train_clean[final_vars]\n",
    "\n",
    "train_clean.shape, test_clean.shape"
   ]
  },
  {
   "cell_type": "code",
   "execution_count": 8,
   "metadata": {},
   "outputs": [],
   "source": [
    "X_train = train_clean.drop('RESPONSE', axis=1)\n",
    "y_train = train_clean.RESPONSE"
   ]
  },
  {
   "cell_type": "markdown",
   "metadata": {},
   "source": [
    "# Baseline model"
   ]
  },
  {
   "cell_type": "code",
   "execution_count": 9,
   "metadata": {},
   "outputs": [],
   "source": [
    "classifier_pipe = create_pipeline(X_train, RandomForestClassifier(random_state = SEED))"
   ]
  },
  {
   "cell_type": "code",
   "execution_count": 10,
   "metadata": {},
   "outputs": [
    {
     "data": {
      "text/plain": [
       "0.6119295816113446"
      ]
     },
     "execution_count": 10,
     "metadata": {},
     "output_type": "execute_result"
    }
   ],
   "source": [
    "scores = cross_val_score(classifier_pipe, X_train, y_train, cv=StratifiedKFold(5), scoring = 'roc_auc')\n",
    "scores.mean()"
   ]
  },
  {
   "cell_type": "markdown",
   "metadata": {},
   "source": [
    "# Improvements"
   ]
  },
  {
   "cell_type": "markdown",
   "metadata": {},
   "source": [
    "## Best variables\n",
    "----\n",
    "Select the most important variables for the Random Forest trained for customers data."
   ]
  },
  {
   "cell_type": "code",
   "execution_count": 11,
   "metadata": {},
   "outputs": [
    {
     "data": {
      "text/html": [
       "<div>\n",
       "<style scoped>\n",
       "    .dataframe tbody tr th:only-of-type {\n",
       "        vertical-align: middle;\n",
       "    }\n",
       "\n",
       "    .dataframe tbody tr th {\n",
       "        vertical-align: top;\n",
       "    }\n",
       "\n",
       "    .dataframe thead th {\n",
       "        text-align: right;\n",
       "    }\n",
       "</style>\n",
       "<table border=\"1\" class=\"dataframe\">\n",
       "  <thead>\n",
       "    <tr style=\"text-align: right;\">\n",
       "      <th></th>\n",
       "      <th>D19_SOZIALES</th>\n",
       "      <th>D19_KONSUMTYP</th>\n",
       "      <th>ALTERSKATEGORIE_GROB</th>\n",
       "      <th>CJT_TYP_5</th>\n",
       "      <th>CJT_TYP_6</th>\n",
       "      <th>RT_SCHNAEPPCHEN</th>\n",
       "      <th>ALTERSKATEGORIE_FEIN</th>\n",
       "      <th>LP_STATUS_FEIN</th>\n",
       "      <th>CJT_TYP_1</th>\n",
       "      <th>HH_EINKOMMEN_SCORE</th>\n",
       "      <th>CJT_TYP_3</th>\n",
       "      <th>LP_FAMILIE_FEIN</th>\n",
       "      <th>RT_KEIN_ANREIZ</th>\n",
       "      <th>AKT_DAT_KL</th>\n",
       "      <th>GFK_URLAUBERTYP</th>\n",
       "      <th>FINANZ_MINIMALIST</th>\n",
       "      <th>EINGEZOGENAM_HH_JAHR</th>\n",
       "      <th>AGER_TYP</th>\n",
       "      <th>ANZ_HAUSHALTE_AKTIV</th>\n",
       "      <th>CJT_GESAMTTYP</th>\n",
       "    </tr>\n",
       "    <tr>\n",
       "      <th>LNR</th>\n",
       "      <th></th>\n",
       "      <th></th>\n",
       "      <th></th>\n",
       "      <th></th>\n",
       "      <th></th>\n",
       "      <th></th>\n",
       "      <th></th>\n",
       "      <th></th>\n",
       "      <th></th>\n",
       "      <th></th>\n",
       "      <th></th>\n",
       "      <th></th>\n",
       "      <th></th>\n",
       "      <th></th>\n",
       "      <th></th>\n",
       "      <th></th>\n",
       "      <th></th>\n",
       "      <th></th>\n",
       "      <th></th>\n",
       "      <th></th>\n",
       "    </tr>\n",
       "  </thead>\n",
       "  <tbody>\n",
       "    <tr>\n",
       "      <th>1763</th>\n",
       "      <td>1.0</td>\n",
       "      <td>3.0</td>\n",
       "      <td>4</td>\n",
       "      <td>5.0</td>\n",
       "      <td>5.0</td>\n",
       "      <td>5.0</td>\n",
       "      <td>8.0</td>\n",
       "      <td>3.0</td>\n",
       "      <td>2.0</td>\n",
       "      <td>6.0</td>\n",
       "      <td>5.0</td>\n",
       "      <td>1.0</td>\n",
       "      <td>2.0</td>\n",
       "      <td>1.0</td>\n",
       "      <td>8.0</td>\n",
       "      <td>3</td>\n",
       "      <td>2004.0</td>\n",
       "      <td>2</td>\n",
       "      <td>15.0</td>\n",
       "      <td>2.0</td>\n",
       "    </tr>\n",
       "    <tr>\n",
       "      <th>1771</th>\n",
       "      <td>5.0</td>\n",
       "      <td>1.0</td>\n",
       "      <td>3</td>\n",
       "      <td>5.0</td>\n",
       "      <td>4.0</td>\n",
       "      <td>1.0</td>\n",
       "      <td>13.0</td>\n",
       "      <td>9.0</td>\n",
       "      <td>2.0</td>\n",
       "      <td>1.0</td>\n",
       "      <td>4.0</td>\n",
       "      <td>2.0</td>\n",
       "      <td>3.0</td>\n",
       "      <td>4.0</td>\n",
       "      <td>8.0</td>\n",
       "      <td>5</td>\n",
       "      <td>1994.0</td>\n",
       "      <td>1</td>\n",
       "      <td>1.0</td>\n",
       "      <td>2.0</td>\n",
       "    </tr>\n",
       "    <tr>\n",
       "      <th>1776</th>\n",
       "      <td>2.0</td>\n",
       "      <td>2.0</td>\n",
       "      <td>4</td>\n",
       "      <td>5.0</td>\n",
       "      <td>5.0</td>\n",
       "      <td>5.0</td>\n",
       "      <td>7.0</td>\n",
       "      <td>10.0</td>\n",
       "      <td>1.0</td>\n",
       "      <td>1.0</td>\n",
       "      <td>5.0</td>\n",
       "      <td>0.0</td>\n",
       "      <td>1.0</td>\n",
       "      <td>1.0</td>\n",
       "      <td>3.0</td>\n",
       "      <td>5</td>\n",
       "      <td>1997.0</td>\n",
       "      <td>1</td>\n",
       "      <td>0.0</td>\n",
       "      <td>4.0</td>\n",
       "    </tr>\n",
       "    <tr>\n",
       "      <th>1460</th>\n",
       "      <td>1.0</td>\n",
       "      <td>3.0</td>\n",
       "      <td>4</td>\n",
       "      <td>5.0</td>\n",
       "      <td>4.0</td>\n",
       "      <td>5.0</td>\n",
       "      <td>6.0</td>\n",
       "      <td>3.0</td>\n",
       "      <td>2.0</td>\n",
       "      <td>4.0</td>\n",
       "      <td>5.0</td>\n",
       "      <td>2.0</td>\n",
       "      <td>2.0</td>\n",
       "      <td>1.0</td>\n",
       "      <td>5.0</td>\n",
       "      <td>4</td>\n",
       "      <td>1994.0</td>\n",
       "      <td>2</td>\n",
       "      <td>4.0</td>\n",
       "      <td>2.0</td>\n",
       "    </tr>\n",
       "    <tr>\n",
       "      <th>1783</th>\n",
       "      <td>1.0</td>\n",
       "      <td>2.0</td>\n",
       "      <td>3</td>\n",
       "      <td>5.0</td>\n",
       "      <td>5.0</td>\n",
       "      <td>5.0</td>\n",
       "      <td>9.0</td>\n",
       "      <td>6.0</td>\n",
       "      <td>1.0</td>\n",
       "      <td>4.0</td>\n",
       "      <td>5.0</td>\n",
       "      <td>1.0</td>\n",
       "      <td>1.0</td>\n",
       "      <td>1.0</td>\n",
       "      <td>4.0</td>\n",
       "      <td>3</td>\n",
       "      <td>1994.0</td>\n",
       "      <td>2</td>\n",
       "      <td>53.0</td>\n",
       "      <td>6.0</td>\n",
       "    </tr>\n",
       "    <tr>\n",
       "      <th>...</th>\n",
       "      <td>...</td>\n",
       "      <td>...</td>\n",
       "      <td>...</td>\n",
       "      <td>...</td>\n",
       "      <td>...</td>\n",
       "      <td>...</td>\n",
       "      <td>...</td>\n",
       "      <td>...</td>\n",
       "      <td>...</td>\n",
       "      <td>...</td>\n",
       "      <td>...</td>\n",
       "      <td>...</td>\n",
       "      <td>...</td>\n",
       "      <td>...</td>\n",
       "      <td>...</td>\n",
       "      <td>...</td>\n",
       "      <td>...</td>\n",
       "      <td>...</td>\n",
       "      <td>...</td>\n",
       "      <td>...</td>\n",
       "    </tr>\n",
       "    <tr>\n",
       "      <th>66338</th>\n",
       "      <td>3.0</td>\n",
       "      <td>1.0</td>\n",
       "      <td>4</td>\n",
       "      <td>5.0</td>\n",
       "      <td>4.0</td>\n",
       "      <td>2.0</td>\n",
       "      <td>10.0</td>\n",
       "      <td>10.0</td>\n",
       "      <td>1.0</td>\n",
       "      <td>1.0</td>\n",
       "      <td>5.0</td>\n",
       "      <td>11.0</td>\n",
       "      <td>1.0</td>\n",
       "      <td>1.0</td>\n",
       "      <td>10.0</td>\n",
       "      <td>5</td>\n",
       "      <td>2010.0</td>\n",
       "      <td>2</td>\n",
       "      <td>1.0</td>\n",
       "      <td>3.0</td>\n",
       "    </tr>\n",
       "    <tr>\n",
       "      <th>67629</th>\n",
       "      <td>1.0</td>\n",
       "      <td>2.0</td>\n",
       "      <td>3</td>\n",
       "      <td>4.0</td>\n",
       "      <td>5.0</td>\n",
       "      <td>5.0</td>\n",
       "      <td>14.0</td>\n",
       "      <td>9.0</td>\n",
       "      <td>2.0</td>\n",
       "      <td>4.0</td>\n",
       "      <td>4.0</td>\n",
       "      <td>10.0</td>\n",
       "      <td>1.0</td>\n",
       "      <td>1.0</td>\n",
       "      <td>10.0</td>\n",
       "      <td>5</td>\n",
       "      <td>2001.0</td>\n",
       "      <td>-1</td>\n",
       "      <td>1.0</td>\n",
       "      <td>3.0</td>\n",
       "    </tr>\n",
       "    <tr>\n",
       "      <th>68273</th>\n",
       "      <td>1.0</td>\n",
       "      <td>2.0</td>\n",
       "      <td>4</td>\n",
       "      <td>5.0</td>\n",
       "      <td>5.0</td>\n",
       "      <td>5.0</td>\n",
       "      <td>10.0</td>\n",
       "      <td>9.0</td>\n",
       "      <td>1.0</td>\n",
       "      <td>4.0</td>\n",
       "      <td>5.0</td>\n",
       "      <td>10.0</td>\n",
       "      <td>4.0</td>\n",
       "      <td>1.0</td>\n",
       "      <td>6.0</td>\n",
       "      <td>5</td>\n",
       "      <td>1994.0</td>\n",
       "      <td>1</td>\n",
       "      <td>2.0</td>\n",
       "      <td>5.0</td>\n",
       "    </tr>\n",
       "    <tr>\n",
       "      <th>68581</th>\n",
       "      <td>0.0</td>\n",
       "      <td>4.0</td>\n",
       "      <td>4</td>\n",
       "      <td>3.0</td>\n",
       "      <td>5.0</td>\n",
       "      <td>2.0</td>\n",
       "      <td>13.0</td>\n",
       "      <td>1.0</td>\n",
       "      <td>3.0</td>\n",
       "      <td>5.0</td>\n",
       "      <td>4.0</td>\n",
       "      <td>10.0</td>\n",
       "      <td>4.0</td>\n",
       "      <td>1.0</td>\n",
       "      <td>2.0</td>\n",
       "      <td>2</td>\n",
       "      <td>1994.0</td>\n",
       "      <td>2</td>\n",
       "      <td>3.0</td>\n",
       "      <td>5.0</td>\n",
       "    </tr>\n",
       "    <tr>\n",
       "      <th>69224</th>\n",
       "      <td>0.0</td>\n",
       "      <td>9.0</td>\n",
       "      <td>4</td>\n",
       "      <td>5.0</td>\n",
       "      <td>5.0</td>\n",
       "      <td>4.0</td>\n",
       "      <td>9.0</td>\n",
       "      <td>4.0</td>\n",
       "      <td>2.0</td>\n",
       "      <td>5.0</td>\n",
       "      <td>5.0</td>\n",
       "      <td>1.0</td>\n",
       "      <td>4.0</td>\n",
       "      <td>1.0</td>\n",
       "      <td>5.0</td>\n",
       "      <td>3</td>\n",
       "      <td>1994.0</td>\n",
       "      <td>2</td>\n",
       "      <td>3.0</td>\n",
       "      <td>2.0</td>\n",
       "    </tr>\n",
       "  </tbody>\n",
       "</table>\n",
       "<p>42962 rows × 20 columns</p>\n",
       "</div>"
      ],
      "text/plain": [
       "       D19_SOZIALES  D19_KONSUMTYP  ALTERSKATEGORIE_GROB  CJT_TYP_5  \\\n",
       "LNR                                                                   \n",
       "1763            1.0            3.0                     4        5.0   \n",
       "1771            5.0            1.0                     3        5.0   \n",
       "1776            2.0            2.0                     4        5.0   \n",
       "1460            1.0            3.0                     4        5.0   \n",
       "1783            1.0            2.0                     3        5.0   \n",
       "...             ...            ...                   ...        ...   \n",
       "66338           3.0            1.0                     4        5.0   \n",
       "67629           1.0            2.0                     3        4.0   \n",
       "68273           1.0            2.0                     4        5.0   \n",
       "68581           0.0            4.0                     4        3.0   \n",
       "69224           0.0            9.0                     4        5.0   \n",
       "\n",
       "       CJT_TYP_6  RT_SCHNAEPPCHEN  ALTERSKATEGORIE_FEIN  LP_STATUS_FEIN  \\\n",
       "LNR                                                                       \n",
       "1763         5.0              5.0                   8.0             3.0   \n",
       "1771         4.0              1.0                  13.0             9.0   \n",
       "1776         5.0              5.0                   7.0            10.0   \n",
       "1460         4.0              5.0                   6.0             3.0   \n",
       "1783         5.0              5.0                   9.0             6.0   \n",
       "...          ...              ...                   ...             ...   \n",
       "66338        4.0              2.0                  10.0            10.0   \n",
       "67629        5.0              5.0                  14.0             9.0   \n",
       "68273        5.0              5.0                  10.0             9.0   \n",
       "68581        5.0              2.0                  13.0             1.0   \n",
       "69224        5.0              4.0                   9.0             4.0   \n",
       "\n",
       "       CJT_TYP_1  HH_EINKOMMEN_SCORE  CJT_TYP_3  LP_FAMILIE_FEIN  \\\n",
       "LNR                                                                \n",
       "1763         2.0                 6.0        5.0              1.0   \n",
       "1771         2.0                 1.0        4.0              2.0   \n",
       "1776         1.0                 1.0        5.0              0.0   \n",
       "1460         2.0                 4.0        5.0              2.0   \n",
       "1783         1.0                 4.0        5.0              1.0   \n",
       "...          ...                 ...        ...              ...   \n",
       "66338        1.0                 1.0        5.0             11.0   \n",
       "67629        2.0                 4.0        4.0             10.0   \n",
       "68273        1.0                 4.0        5.0             10.0   \n",
       "68581        3.0                 5.0        4.0             10.0   \n",
       "69224        2.0                 5.0        5.0              1.0   \n",
       "\n",
       "       RT_KEIN_ANREIZ  AKT_DAT_KL  GFK_URLAUBERTYP  FINANZ_MINIMALIST  \\\n",
       "LNR                                                                     \n",
       "1763              2.0         1.0              8.0                  3   \n",
       "1771              3.0         4.0              8.0                  5   \n",
       "1776              1.0         1.0              3.0                  5   \n",
       "1460              2.0         1.0              5.0                  4   \n",
       "1783              1.0         1.0              4.0                  3   \n",
       "...               ...         ...              ...                ...   \n",
       "66338             1.0         1.0             10.0                  5   \n",
       "67629             1.0         1.0             10.0                  5   \n",
       "68273             4.0         1.0              6.0                  5   \n",
       "68581             4.0         1.0              2.0                  2   \n",
       "69224             4.0         1.0              5.0                  3   \n",
       "\n",
       "       EINGEZOGENAM_HH_JAHR  AGER_TYP  ANZ_HAUSHALTE_AKTIV  CJT_GESAMTTYP  \n",
       "LNR                                                                        \n",
       "1763                 2004.0         2                 15.0            2.0  \n",
       "1771                 1994.0         1                  1.0            2.0  \n",
       "1776                 1997.0         1                  0.0            4.0  \n",
       "1460                 1994.0         2                  4.0            2.0  \n",
       "1783                 1994.0         2                 53.0            6.0  \n",
       "...                     ...       ...                  ...            ...  \n",
       "66338                2010.0         2                  1.0            3.0  \n",
       "67629                2001.0        -1                  1.0            3.0  \n",
       "68273                1994.0         1                  2.0            5.0  \n",
       "68581                1994.0         2                  3.0            5.0  \n",
       "69224                1994.0         2                  3.0            2.0  \n",
       "\n",
       "[42962 rows x 20 columns]"
      ]
     },
     "execution_count": 11,
     "metadata": {},
     "output_type": "execute_result"
    }
   ],
   "source": [
    "X_train[RF_vars]"
   ]
  },
  {
   "cell_type": "code",
   "execution_count": 12,
   "metadata": {},
   "outputs": [
    {
     "data": {
      "text/plain": [
       "0.6645869426598469"
      ]
     },
     "execution_count": 12,
     "metadata": {},
     "output_type": "execute_result"
    }
   ],
   "source": [
    "classifier_pipe = create_pipeline(X_train[RF_vars], RandomForestClassifier(random_state = SEED))\n",
    "\n",
    "scores = cross_val_score(classifier_pipe, X_train, y_train, cv=StratifiedKFold(3), scoring = 'roc_auc')\n",
    "scores.mean()"
   ]
  },
  {
   "cell_type": "markdown",
   "metadata": {},
   "source": [
    "Quite an improvement!"
   ]
  },
  {
   "cell_type": "markdown",
   "metadata": {},
   "source": [
    "## Tuning hyperparameters"
   ]
  },
  {
   "cell_type": "markdown",
   "metadata": {},
   "source": [
    "### Regular tuning"
   ]
  },
  {
   "cell_type": "code",
   "execution_count": 13,
   "metadata": {},
   "outputs": [],
   "source": [
    "n_estimators = list(range(20,100,40))\n",
    "max_depth = list(range(2,20,5))\n",
    "max_features = list(range(2,20,5))"
   ]
  },
  {
   "cell_type": "code",
   "execution_count": 14,
   "metadata": {},
   "outputs": [],
   "source": [
    "parameters = dict(classifier__n_estimators=n_estimators, \n",
    "                  classifier__max_depth=max_depth,\n",
    "                  classifier__max_features=max_features)"
   ]
  },
  {
   "cell_type": "code",
   "execution_count": 15,
   "metadata": {
    "scrolled": true
   },
   "outputs": [
    {
     "name": "stdout",
     "output_type": "stream",
     "text": [
      "CPU times: user 2min 28s, sys: 2.24 s, total: 2min 30s\n",
      "Wall time: 2min 30s\n"
     ]
    },
    {
     "data": {
      "text/plain": [
       "GridSearchCV(cv=None, error_score=nan,\n",
       "             estimator=Pipeline(memory=None,\n",
       "                                steps=[('preprocess',\n",
       "                                        ColumnTransformer(n_jobs=None,\n",
       "                                                          remainder='drop',\n",
       "                                                          sparse_threshold=0.3,\n",
       "                                                          transformer_weights=None,\n",
       "                                                          transformers=[('cat',\n",
       "                                                                         Pipeline(memory=None,\n",
       "                                                                                  steps=[('imputer',\n",
       "                                                                                          SimpleImputer(add_indicator=False,\n",
       "                                                                                                        copy=True,\n",
       "                                                                                                        fill_value='missing',\n",
       "                                                                                                        missing_values=nan,\n",
       "                                                                                                        strategy='constant',\n",
       "                                                                                                        verb...\n",
       "                                                               min_weight_fraction_leaf=0.0,\n",
       "                                                               n_estimators=100,\n",
       "                                                               n_jobs=None,\n",
       "                                                               oob_score=False,\n",
       "                                                               random_state=0,\n",
       "                                                               verbose=0,\n",
       "                                                               warm_start=False))],\n",
       "                                verbose=False),\n",
       "             iid='deprecated', n_jobs=None,\n",
       "             param_grid={'classifier__max_depth': [2, 7, 12, 17],\n",
       "                         'classifier__max_features': [2, 7, 12, 17],\n",
       "                         'classifier__n_estimators': [20, 60]},\n",
       "             pre_dispatch='2*n_jobs', refit=True, return_train_score=False,\n",
       "             scoring=None, verbose=0)"
      ]
     },
     "execution_count": 15,
     "metadata": {},
     "output_type": "execute_result"
    }
   ],
   "source": [
    "%%time\n",
    "\n",
    "classifier_pipe = create_pipeline(X_train[RF_vars], RandomForestClassifier(random_state = SEED))\n",
    "\n",
    "# Create a grid search object\n",
    "clf = GridSearchCV(classifier_pipe, parameters)\n",
    "\n",
    "# Fit the grid search\n",
    "clf.fit(X_train, y_train)"
   ]
  },
  {
   "cell_type": "code",
   "execution_count": 16,
   "metadata": {},
   "outputs": [
    {
     "name": "stdout",
     "output_type": "stream",
     "text": [
      "Best n_estimators: 20\n",
      "Best max_depth: 2\n",
      "Best max_features: 2\n",
      "Best min_samples_split: 2\n"
     ]
    }
   ],
   "source": [
    "# View The Best Parameters\n",
    "print('Best n_estimators:', clf.best_estimator_.get_params()['classifier__n_estimators'])\n",
    "print('Best max_depth:', clf.best_estimator_.get_params()['classifier__max_depth'])\n",
    "print('Best max_features:', clf.best_estimator_.get_params()['classifier__max_features'])\n",
    "print('Best min_samples_split:', clf.best_estimator_.get_params()['classifier__min_samples_split'])"
   ]
  },
  {
   "cell_type": "code",
   "execution_count": 17,
   "metadata": {},
   "outputs": [
    {
     "data": {
      "text/plain": [
       "0.7184531143623717"
      ]
     },
     "execution_count": 17,
     "metadata": {},
     "output_type": "execute_result"
    }
   ],
   "source": [
    "# Fit the grid search using 3-Fold cross validation\n",
    "scores = cross_val_score(clf, X_train, y_train, cv=StratifiedKFold(3), scoring = 'roc_auc')\n",
    "scores.mean()"
   ]
  },
  {
   "cell_type": "markdown",
   "metadata": {},
   "source": [
    "### Randomized"
   ]
  },
  {
   "cell_type": "code",
   "execution_count": 18,
   "metadata": {},
   "outputs": [],
   "source": [
    "n_estimators = list(range(10,150,10))\n",
    "max_depth = list(range(1,20,3))\n",
    "max_features = list(range(1,20,3))\n",
    "min_samples_split = [2,3,4,5]\n",
    "# class_weight = ['balanced', 'balanced_subsample']"
   ]
  },
  {
   "cell_type": "code",
   "execution_count": 19,
   "metadata": {},
   "outputs": [],
   "source": [
    "parameters = dict(classifier__n_estimators=n_estimators, \n",
    "                  classifier__max_depth=max_depth,\n",
    "                  classifier__max_features=max_features,\n",
    "                 classifier__min_samples_split=min_samples_split)\n",
    "                \n",
    "#                  classifier__class_weight=class_weight"
   ]
  },
  {
   "cell_type": "code",
   "execution_count": 20,
   "metadata": {
    "scrolled": true
   },
   "outputs": [
    {
     "name": "stdout",
     "output_type": "stream",
     "text": [
      "CPU times: user 1min 21s, sys: 795 ms, total: 1min 22s\n",
      "Wall time: 1min 22s\n"
     ]
    },
    {
     "data": {
      "text/plain": [
       "RandomizedSearchCV(cv=None, error_score=nan,\n",
       "                   estimator=Pipeline(memory=None,\n",
       "                                      steps=[('preprocess',\n",
       "                                              ColumnTransformer(n_jobs=None,\n",
       "                                                                remainder='drop',\n",
       "                                                                sparse_threshold=0.3,\n",
       "                                                                transformer_weights=None,\n",
       "                                                                transformers=[('cat',\n",
       "                                                                               Pipeline(memory=None,\n",
       "                                                                                        steps=[('imputer',\n",
       "                                                                                                SimpleImputer(add_indicator=False,\n",
       "                                                                                                              copy=True,\n",
       "                                                                                                              fill_value='missing',\n",
       "                                                                                                              missing_values=nan,\n",
       "                                                                                                              strategy='constant...\n",
       "                   iid='deprecated', n_iter=10, n_jobs=None,\n",
       "                   param_distributions={'classifier__max_depth': [1, 4, 7, 10,\n",
       "                                                                  13, 16, 19],\n",
       "                                        'classifier__max_features': [1, 4, 7,\n",
       "                                                                     10, 13, 16,\n",
       "                                                                     19],\n",
       "                                        'classifier__min_samples_split': [2, 3,\n",
       "                                                                          4,\n",
       "                                                                          5],\n",
       "                                        'classifier__n_estimators': [10, 20, 30,\n",
       "                                                                     40, 50, 60,\n",
       "                                                                     70, 80, 90,\n",
       "                                                                     100, 110,\n",
       "                                                                     120, 130,\n",
       "                                                                     140]},\n",
       "                   pre_dispatch='2*n_jobs', random_state=0, refit=True,\n",
       "                   return_train_score=False, scoring=None, verbose=0)"
      ]
     },
     "execution_count": 20,
     "metadata": {},
     "output_type": "execute_result"
    }
   ],
   "source": [
    "%%time\n",
    "\n",
    "classifier_pipe = create_pipeline(X_train[RF_vars], RandomForestClassifier(random_state = SEED))\n",
    "\n",
    "# Create a grid search object\n",
    "clf = RandomizedSearchCV(classifier_pipe, parameters, n_iter = 10, random_state = SEED)\n",
    "\n",
    "# Fit the grid search\n",
    "clf.fit(X_train, y_train)"
   ]
  },
  {
   "cell_type": "code",
   "execution_count": 21,
   "metadata": {},
   "outputs": [
    {
     "name": "stdout",
     "output_type": "stream",
     "text": [
      "Best n_estimators: 40\n",
      "Best max_depth: 19\n",
      "Best max_features: 13\n",
      "Best min_samples_split: 4\n"
     ]
    }
   ],
   "source": [
    "# View The Best Parameters\n",
    "print('Best n_estimators:', clf.best_estimator_.get_params()['classifier__n_estimators'])\n",
    "print('Best max_depth:', clf.best_estimator_.get_params()['classifier__max_depth'])\n",
    "print('Best max_features:', clf.best_estimator_.get_params()['classifier__max_features'])\n",
    "print('Best min_samples_split:', clf.best_estimator_.get_params()['classifier__min_samples_split'])"
   ]
  },
  {
   "cell_type": "code",
   "execution_count": 22,
   "metadata": {},
   "outputs": [
    {
     "data": {
      "text/plain": [
       "0.7041720858149552"
      ]
     },
     "execution_count": 22,
     "metadata": {},
     "output_type": "execute_result"
    }
   ],
   "source": [
    "# Fit the grid search using 3-Fold cross validation\n",
    "scores = cross_val_score(clf, X_train, y_train, cv=StratifiedKFold(5), scoring = 'roc_auc')\n",
    "scores.mean()"
   ]
  },
  {
   "cell_type": "markdown",
   "metadata": {},
   "source": [
    "## Pipeline with PCA"
   ]
  },
  {
   "cell_type": "code",
   "execution_count": 23,
   "metadata": {},
   "outputs": [],
   "source": [
    "classifier_pipe_pca = create_pipeline_PCA(X_train, PCA(80), RandomForestClassifier(random_state = SEED))"
   ]
  },
  {
   "cell_type": "code",
   "execution_count": 24,
   "metadata": {},
   "outputs": [
    {
     "data": {
      "text/plain": [
       "0.5503777244194417"
      ]
     },
     "execution_count": 24,
     "metadata": {},
     "output_type": "execute_result"
    }
   ],
   "source": [
    "scores = cross_val_score(classifier_pipe_pca, X_train, y_train, cv=5, scoring = 'roc_auc')\n",
    "scores.mean()"
   ]
  },
  {
   "cell_type": "markdown",
   "metadata": {},
   "source": [
    "# Lightgbm\n",
    "\n",
    "--------\n",
    "\n",
    "Let's try with Lightgbm to see if we can improve the score."
   ]
  },
  {
   "cell_type": "code",
   "execution_count": 25,
   "metadata": {},
   "outputs": [],
   "source": [
    "lgb_pipe = create_pipeline(X_train, \n",
    "                                  lgb.LGBMClassifier(n_estimators = 15,\n",
    "                                                     class_weight = 'balanced', \n",
    "                                                     random_state = SEED))\n"
   ]
  },
  {
   "cell_type": "code",
   "execution_count": 26,
   "metadata": {},
   "outputs": [
    {
     "data": {
      "text/plain": [
       "0.7450951649886234"
      ]
     },
     "execution_count": 26,
     "metadata": {},
     "output_type": "execute_result"
    }
   ],
   "source": [
    "scores = cross_val_score(lgb_pipe, X_train, y_train, cv=5, scoring = 'roc_auc')\n",
    "scores.mean()"
   ]
  },
  {
   "cell_type": "code",
   "execution_count": 27,
   "metadata": {},
   "outputs": [],
   "source": [
    "lgb_pipe = create_pipeline(X_train[RF_vars], \n",
    "                                  lgb.LGBMClassifier(n_estimators = 15,\n",
    "                                                     class_weight = 'balanced', \n",
    "                                                     random_state = SEED))\n"
   ]
  },
  {
   "cell_type": "code",
   "execution_count": 28,
   "metadata": {},
   "outputs": [
    {
     "data": {
      "text/plain": [
       "0.7574310616803978"
      ]
     },
     "execution_count": 28,
     "metadata": {},
     "output_type": "execute_result"
    }
   ],
   "source": [
    "scores = cross_val_score(lgb_pipe, X_train, y_train, cv=5, scoring = 'roc_auc')\n",
    "scores.mean()"
   ]
  },
  {
   "cell_type": "markdown",
   "metadata": {},
   "source": [
    "## Hyperparameter tuning"
   ]
  },
  {
   "cell_type": "code",
   "execution_count": 29,
   "metadata": {},
   "outputs": [],
   "source": [
    "n_estimators = list(range(10,150,10))\n",
    "max_depth = list(range(1,20,3))\n",
    "max_features = list(range(1,20,3))\n",
    "num_leaves = [2,3,4,5]"
   ]
  },
  {
   "cell_type": "code",
   "execution_count": 30,
   "metadata": {},
   "outputs": [],
   "source": [
    "parameters = dict(classifier__n_estimators=n_estimators, \n",
    "                  classifier__max_depth=max_depth,\n",
    "                  classifier__max_features=max_features,\n",
    "                  classifier__num_leaves=num_leaves)"
   ]
  },
  {
   "cell_type": "code",
   "execution_count": 31,
   "metadata": {},
   "outputs": [
    {
     "name": "stdout",
     "output_type": "stream",
     "text": [
      "CPU times: user 4min 58s, sys: 9.87 s, total: 5min 8s\n",
      "Wall time: 27.1 s\n"
     ]
    },
    {
     "data": {
      "text/plain": [
       "RandomizedSearchCV(cv=None, error_score=nan,\n",
       "                   estimator=Pipeline(memory=None,\n",
       "                                      steps=[('preprocess',\n",
       "                                              ColumnTransformer(n_jobs=None,\n",
       "                                                                remainder='drop',\n",
       "                                                                sparse_threshold=0.3,\n",
       "                                                                transformer_weights=None,\n",
       "                                                                transformers=[('cat',\n",
       "                                                                               Pipeline(memory=None,\n",
       "                                                                                        steps=[('imputer',\n",
       "                                                                                                SimpleImputer(add_indicator=False,\n",
       "                                                                                                              copy=True,\n",
       "                                                                                                              fill_value='missing',\n",
       "                                                                                                              missing_values=nan,\n",
       "                                                                                                              strategy='constant...\n",
       "                   iid='deprecated', n_iter=20, n_jobs=None,\n",
       "                   param_distributions={'classifier__max_depth': [1, 4, 7, 10,\n",
       "                                                                  13, 16, 19],\n",
       "                                        'classifier__max_features': [1, 4, 7,\n",
       "                                                                     10, 13, 16,\n",
       "                                                                     19],\n",
       "                                        'classifier__n_estimators': [10, 20, 30,\n",
       "                                                                     40, 50, 60,\n",
       "                                                                     70, 80, 90,\n",
       "                                                                     100, 110,\n",
       "                                                                     120, 130,\n",
       "                                                                     140],\n",
       "                                        'classifier__num_leaves': [2, 3, 4, 5]},\n",
       "                   pre_dispatch='2*n_jobs', random_state=0, refit='roc_auc',\n",
       "                   return_train_score=False, scoring='roc_auc', verbose=0)"
      ]
     },
     "execution_count": 31,
     "metadata": {},
     "output_type": "execute_result"
    }
   ],
   "source": [
    "%%time\n",
    "\n",
    "lgb_pipe = create_pipeline(X_train[RF_vars], lgb.LGBMClassifier(random_state = SEED))\n",
    "\n",
    "# Create a grid search object\n",
    "clf = RandomizedSearchCV(lgb_pipe, parameters, n_iter = 20, random_state = SEED, scoring = 'roc_auc', refit = 'roc_auc')\n",
    "\n",
    "# Fit the grid search\n",
    "clf.fit(X_train, y_train)"
   ]
  },
  {
   "cell_type": "code",
   "execution_count": 32,
   "metadata": {},
   "outputs": [
    {
     "name": "stdout",
     "output_type": "stream",
     "text": [
      "Best n_estimators: 30\n",
      "Best max_depth: 19\n",
      "Best max_features: 1\n",
      "Best min_samplnum_leaveses_split: 4\n"
     ]
    }
   ],
   "source": [
    "# View The Best Parameters\n",
    "print('Best n_estimators:', clf.best_estimator_.get_params()['classifier__n_estimators'])\n",
    "print('Best max_depth:', clf.best_estimator_.get_params()['classifier__max_depth'])\n",
    "print('Best max_features:', clf.best_estimator_.get_params()['classifier__max_features'])\n",
    "print('Best min_samplnum_leaveses_split:', clf.best_estimator_.get_params()['classifier__num_leaves'])"
   ]
  },
  {
   "cell_type": "code",
   "execution_count": 33,
   "metadata": {},
   "outputs": [
    {
     "data": {
      "text/plain": [
       "0.7693842333403556"
      ]
     },
     "execution_count": 33,
     "metadata": {},
     "output_type": "execute_result"
    }
   ],
   "source": [
    "# Fit the grid search using 5-Fold cross validation\n",
    "scores = cross_val_score(clf, X_train, y_train, cv=StratifiedKFold(5), scoring = 'roc_auc')\n",
    "scores.mean()"
   ]
  },
  {
   "cell_type": "code",
   "execution_count": 34,
   "metadata": {},
   "outputs": [
    {
     "data": {
      "text/plain": [
       "0.7710602707092367"
      ]
     },
     "execution_count": 34,
     "metadata": {},
     "output_type": "execute_result"
    }
   ],
   "source": [
    "# Fit the grid search using 5-Fold cross validation\n",
    "scores = cross_val_score(clf.best_estimator_, X_train, y_train, cv=StratifiedKFold(5), scoring = 'roc_auc')\n",
    "scores.mean()"
   ]
  },
  {
   "cell_type": "markdown",
   "metadata": {},
   "source": [
    "## Prepare submission"
   ]
  },
  {
   "cell_type": "code",
   "execution_count": 35,
   "metadata": {},
   "outputs": [
    {
     "data": {
      "text/plain": [
       "Pipeline(memory=None,\n",
       "         steps=[('preprocess',\n",
       "                 ColumnTransformer(n_jobs=None, remainder='drop',\n",
       "                                   sparse_threshold=0.3,\n",
       "                                   transformer_weights=None,\n",
       "                                   transformers=[('cat',\n",
       "                                                  Pipeline(memory=None,\n",
       "                                                           steps=[('imputer',\n",
       "                                                                   SimpleImputer(add_indicator=False,\n",
       "                                                                                 copy=True,\n",
       "                                                                                 fill_value='missing',\n",
       "                                                                                 missing_values=nan,\n",
       "                                                                                 strategy='constant',\n",
       "                                                                                 verbose=0)),\n",
       "                                                                  ('onehot',\n",
       "                                                                   OneHotEncoder(categories='aut...\n",
       "                 LGBMClassifier(boosting_type='gbdt', class_weight=None,\n",
       "                                colsample_bytree=1.0, importance_type='split',\n",
       "                                learning_rate=0.1, max_depth=19, max_features=1,\n",
       "                                min_child_samples=20, min_child_weight=0.001,\n",
       "                                min_split_gain=0.0, n_estimators=30, n_jobs=-1,\n",
       "                                num_leaves=4, objective=None, random_state=0,\n",
       "                                reg_alpha=0.0, reg_lambda=0.0, silent=True,\n",
       "                                subsample=1.0, subsample_for_bin=200000,\n",
       "                                subsample_freq=0))],\n",
       "         verbose=False)"
      ]
     },
     "execution_count": 35,
     "metadata": {},
     "output_type": "execute_result"
    }
   ],
   "source": [
    "# select model and train with training data\n",
    "final_model_1 = clf.best_estimator_\n",
    "final_model_1.fit(X_train, y_train)"
   ]
  },
  {
   "cell_type": "code",
   "execution_count": 36,
   "metadata": {},
   "outputs": [
    {
     "data": {
      "text/plain": [
       "0         1754\n",
       "1         1770\n",
       "2         1465\n",
       "3         1470\n",
       "4         1478\n",
       "         ...  \n",
       "42828    67615\n",
       "42829    67938\n",
       "42830    67942\n",
       "42831    67949\n",
       "42832    68898\n",
       "Name: LNR, Length: 42833, dtype: int32"
      ]
     },
     "execution_count": 36,
     "metadata": {},
     "output_type": "execute_result"
    }
   ],
   "source": [
    "test.LNR"
   ]
  },
  {
   "cell_type": "code",
   "execution_count": 37,
   "metadata": {},
   "outputs": [
    {
     "name": "stdout",
     "output_type": "stream",
     "text": [
      "Submission stored in data/submission_lgb_1.csv\n"
     ]
    }
   ],
   "source": [
    "create_submission(test = test_clean, model = final_model_1, filename = 'submission_lgb_1.csv', index = test.LNR)"
   ]
  },
  {
   "cell_type": "code",
   "execution_count": null,
   "metadata": {},
   "outputs": [],
   "source": []
  },
  {
   "cell_type": "markdown",
   "metadata": {},
   "source": [
    "## Oversampling\n",
    "\n",
    "----\n",
    "\n",
    "As the data is highly imbalaced, let's use a oversampling technique to see if the results improve"
   ]
  },
  {
   "cell_type": "code",
   "execution_count": 39,
   "metadata": {},
   "outputs": [
    {
     "data": {
      "text/plain": [
       "0    42430\n",
       "1      532\n",
       "Name: RESPONSE, dtype: int64"
      ]
     },
     "execution_count": 39,
     "metadata": {},
     "output_type": "execute_result"
    }
   ],
   "source": [
    "train.RESPONSE.value_counts()"
   ]
  },
  {
   "cell_type": "code",
   "execution_count": 41,
   "metadata": {},
   "outputs": [],
   "source": [
    "sm_pipe = create_pipeline_smote(X_train[RF_vars], lgb.LGBMClassifier(random_state = SEED), 1)"
   ]
  },
  {
   "cell_type": "code",
   "execution_count": 42,
   "metadata": {},
   "outputs": [
    {
     "data": {
      "text/plain": [
       "0.7413126812163533"
      ]
     },
     "execution_count": 42,
     "metadata": {},
     "output_type": "execute_result"
    }
   ],
   "source": [
    "# Fit the grid search using 5-Fold cross validation\n",
    "scores = cross_val_score(sm_pipe, X_train, y_train, cv=StratifiedKFold(5), scoring = 'roc_auc')\n",
    "scores.mean()"
   ]
  },
  {
   "cell_type": "code",
   "execution_count": 43,
   "metadata": {},
   "outputs": [
    {
     "data": {
      "text/plain": [
       "Pipeline(memory=None,\n",
       "         steps=[('preprocessing',\n",
       "                 ColumnTransformer(n_jobs=None, remainder='drop',\n",
       "                                   sparse_threshold=0.3,\n",
       "                                   transformer_weights=None,\n",
       "                                   transformers=[('cat',\n",
       "                                                  Pipeline(memory=None,\n",
       "                                                           steps=[('imputer',\n",
       "                                                                   SimpleImputer(add_indicator=False,\n",
       "                                                                                 copy=True,\n",
       "                                                                                 fill_value='missing',\n",
       "                                                                                 missing_values=nan,\n",
       "                                                                                 strategy='constant',\n",
       "                                                                                 verbose=0)),\n",
       "                                                                  ('onehot',\n",
       "                                                                   OneHotEncoder(categories='...\n",
       "                 LGBMClassifier(boosting_type='gbdt', class_weight=None,\n",
       "                                colsample_bytree=1.0, importance_type='split',\n",
       "                                learning_rate=0.1, max_depth=-1,\n",
       "                                min_child_samples=20, min_child_weight=0.001,\n",
       "                                min_split_gain=0.0, n_estimators=100, n_jobs=-1,\n",
       "                                num_leaves=31, objective=None, random_state=0,\n",
       "                                reg_alpha=0.0, reg_lambda=0.0, silent=True,\n",
       "                                subsample=1.0, subsample_for_bin=200000,\n",
       "                                subsample_freq=0))],\n",
       "         verbose=False)"
      ]
     },
     "execution_count": 43,
     "metadata": {},
     "output_type": "execute_result"
    }
   ],
   "source": [
    "sm_pipe.fit(X_train, y_train)"
   ]
  },
  {
   "cell_type": "code",
   "execution_count": 44,
   "metadata": {},
   "outputs": [
    {
     "name": "stdout",
     "output_type": "stream",
     "text": [
      "Submission stored in data/submission_lgb_imb.csv\n"
     ]
    }
   ],
   "source": [
    "create_submission(test_clean, sm_pipe, filename = 'submission_lgb_imb.csv', index = test.LNR)"
   ]
  },
  {
   "cell_type": "markdown",
   "metadata": {},
   "source": [
    "## Interaction terms\n",
    "----\n",
    "Try to compute interaction terms for some of the most important variables. If the score improves, then keep those terms."
   ]
  },
  {
   "cell_type": "code",
   "execution_count": 45,
   "metadata": {},
   "outputs": [
    {
     "data": {
      "text/plain": [
       "['D19_SOZIALES',\n",
       " 'D19_KONSUMTYP',\n",
       " 'ALTERSKATEGORIE_GROB',\n",
       " 'CJT_TYP_5',\n",
       " 'CJT_TYP_6',\n",
       " 'RT_SCHNAEPPCHEN',\n",
       " 'ALTERSKATEGORIE_FEIN',\n",
       " 'LP_STATUS_FEIN',\n",
       " 'CJT_TYP_1',\n",
       " 'HH_EINKOMMEN_SCORE']"
      ]
     },
     "execution_count": 45,
     "metadata": {},
     "output_type": "execute_result"
    }
   ],
   "source": [
    "interaction_vars = RF_vars[:10]\n",
    "interaction_vars"
   ]
  },
  {
   "cell_type": "code",
   "execution_count": 48,
   "metadata": {},
   "outputs": [
    {
     "name": "stdout",
     "output_type": "stream",
     "text": [
      "Baseline: 0.7510151627544001\n",
      "\n",
      "Top 10 interactions\n",
      "       feature_A           feature_B  metric\n",
      "0   D19_SOZIALES  HH_EINKOMMEN_SCORE   0.761\n",
      "2   D19_SOZIALES       D19_KONSUMTYP   0.760\n",
      "3  D19_KONSUMTYP      LP_STATUS_FEIN   0.757\n",
      "1   D19_SOZIALES     RT_SCHNAEPPCHEN   0.756\n"
     ]
    },
    {
     "ename": "NameError",
     "evalue": "name 'RF_vars' is not defined",
     "output_type": "error",
     "traceback": [
      "\u001b[0;31m---------------------------------------------------------------------------\u001b[0m",
      "\u001b[0;31mNameError\u001b[0m                                 Traceback (most recent call last)",
      "\u001b[0;32m<ipython-input-48-4a91178cc7b8>\u001b[0m in \u001b[0;36m<module>\u001b[0;34m\u001b[0m\n\u001b[1;32m      2\u001b[0m \u001b[0;34m\u001b[0m\u001b[0m\n\u001b[1;32m      3\u001b[0m X_train_fi = create_fi(X_train, var_list = RF_vars, \n\u001b[0;32m----> 4\u001b[0;31m                        feats_a = interactions_df.feature_A, feats_b = interactions_df.feature_B)\n\u001b[0m",
      "\u001b[0;32m~/Desktop/repos/Arvato-Segmentation-and-Classification/src/modeling.py\u001b[0m in \u001b[0;36mcreate_fi\u001b[0;34m(df, var_list, feats_a, feats_b)\u001b[0m\n\u001b[1;32m    145\u001b[0m \u001b[0;34m\u001b[0m\u001b[0m\n\u001b[1;32m    146\u001b[0m     \u001b[0mdf_ini\u001b[0m \u001b[0;34m=\u001b[0m \u001b[0mdf\u001b[0m\u001b[0;34m.\u001b[0m\u001b[0mcopy\u001b[0m\u001b[0;34m(\u001b[0m\u001b[0;34m)\u001b[0m\u001b[0;34m\u001b[0m\u001b[0;34m\u001b[0m\u001b[0m\n\u001b[0;32m--> 147\u001b[0;31m     \u001b[0mdf\u001b[0m \u001b[0;34m=\u001b[0m \u001b[0mdf\u001b[0m\u001b[0;34m[\u001b[0m\u001b[0mRF_vars\u001b[0m\u001b[0;34m]\u001b[0m\u001b[0;34m\u001b[0m\u001b[0;34m\u001b[0m\u001b[0m\n\u001b[0m\u001b[1;32m    148\u001b[0m     \u001b[0;32mfor\u001b[0m \u001b[0mfeature_A\u001b[0m \u001b[0;32min\u001b[0m \u001b[0mfeats_a\u001b[0m\u001b[0;34m:\u001b[0m\u001b[0;34m\u001b[0m\u001b[0;34m\u001b[0m\u001b[0m\n\u001b[1;32m    149\u001b[0m         \u001b[0mdf\u001b[0m\u001b[0;34m[\u001b[0m\u001b[0mfeature_A\u001b[0m\u001b[0;34m+\u001b[0m\u001b[0;34m'^2'\u001b[0m\u001b[0;34m]\u001b[0m \u001b[0;34m=\u001b[0m \u001b[0mdf\u001b[0m\u001b[0;34m[\u001b[0m\u001b[0mfeature_A\u001b[0m\u001b[0;34m]\u001b[0m\u001b[0;34m**\u001b[0m\u001b[0;36m2\u001b[0m\u001b[0;34m\u001b[0m\u001b[0;34m\u001b[0m\u001b[0m\n",
      "\u001b[0;31mNameError\u001b[0m: name 'RF_vars' is not defined"
     ]
    }
   ],
   "source": [
    "interactions_df = determine_interactions(X_train, y_train, interaction_vars = interaction_vars)\n",
    "\n",
    "X_train_fi = create_fi(X_train, var_list = RF_vars, \n",
    "                       feats_a = interactions_df.feature_A, feats_b = interactions_df.feature_B)"
   ]
  },
  {
   "cell_type": "code",
   "execution_count": null,
   "metadata": {},
   "outputs": [],
   "source": [
    "%%time\n",
    "\n",
    "lgb_pipe_fi = create_pipeline(X_train_fi, lgb.LGBMClassifier(random_state = SEED))\n",
    "\n",
    "# Create a grid search object\n",
    "clf_fi = RandomizedSearchCV(lgb_pipe_fi, parameters, n_iter = 10, random_state = SEED, scoring = 'roc_auc', refit = 'roc_auc')\n",
    "\n",
    "# Fit the grid search\n",
    "clf_fi.fit(X_train_fi, y_train)\n",
    "\n",
    "\n",
    "# View The Best Parameters\n",
    "print('Best n_estimators:', clf_fi.best_estimator_.get_params()['classifier__n_estimators'])\n",
    "print('Best max_depth:', clf_fi.best_estimator_.get_params()['classifier__max_depth'])\n",
    "print('Best max_features:', clf_fi.best_estimator_.get_params()['classifier__max_features'])\n",
    "print('Best num_leaveses_split:', clf_fi.best_estimator_.get_params()['classifier__num_leaves'])\n",
    "print()"
   ]
  },
  {
   "cell_type": "code",
   "execution_count": null,
   "metadata": {},
   "outputs": [],
   "source": [
    "# Fit the grid search using 5-Fold cross validation\n",
    "scores = cross_val_score(clf_fi.best_estimator_, X_train_fi, y_train, cv=StratifiedKFold(5), scoring = 'roc_auc')\n",
    "scores.mean()"
   ]
  },
  {
   "cell_type": "code",
   "execution_count": null,
   "metadata": {},
   "outputs": [],
   "source": [
    "final_model_fi = clf_fi.best_estimator_\n",
    "final_model_fi.fit(X_train_fi, y_train)"
   ]
  },
  {
   "cell_type": "code",
   "execution_count": null,
   "metadata": {},
   "outputs": [],
   "source": []
  },
  {
   "cell_type": "code",
   "execution_count": null,
   "metadata": {},
   "outputs": [],
   "source": [
    "test_fi = create_fi(test_clean, var_list = RF_vars, \n",
    "                       feats_a = interactions_df.feature_A, feats_b = interactions_df.feature_B)"
   ]
  },
  {
   "cell_type": "code",
   "execution_count": null,
   "metadata": {},
   "outputs": [],
   "source": [
    "create_submission(test_fi, final_model_fi, filename = 'submission_lgb_fi.csv', index = test.LNR)"
   ]
  },
  {
   "cell_type": "code",
   "execution_count": null,
   "metadata": {},
   "outputs": [],
   "source": []
  },
  {
   "cell_type": "code",
   "execution_count": null,
   "metadata": {},
   "outputs": [],
   "source": []
  }
 ],
 "metadata": {
  "kernelspec": {
   "display_name": "Python 3",
   "language": "python",
   "name": "python3"
  },
  "language_info": {
   "codemirror_mode": {
    "name": "ipython",
    "version": 3
   },
   "file_extension": ".py",
   "mimetype": "text/x-python",
   "name": "python",
   "nbconvert_exporter": "python",
   "pygments_lexer": "ipython3",
   "version": "3.7.6"
  },
  "toc": {
   "base_numbering": 1,
   "nav_menu": {},
   "number_sections": true,
   "sideBar": true,
   "skip_h1_title": false,
   "title_cell": "Table of Contents",
   "title_sidebar": "Contents",
   "toc_cell": false,
   "toc_position": {},
   "toc_section_display": true,
   "toc_window_display": false
  }
 },
 "nbformat": 4,
 "nbformat_minor": 4
}
